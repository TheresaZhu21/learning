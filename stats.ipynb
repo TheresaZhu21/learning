{
 "cells": [
  {
   "cell_type": "markdown",
   "id": "3578d42e-98fc-4f56-83ac-9c0462fd5e96",
   "metadata": {},
   "source": [
    "# Hypothesis Testing"
   ]
  },
  {
   "cell_type": "code",
   "execution_count": 1,
   "id": "862120aa-cf8f-4a9b-93d9-cb21cedff6c4",
   "metadata": {},
   "outputs": [],
   "source": [
    "import pandas as pd\n",
    "import numpy as np\n",
    "import feather\n",
    "\n",
    "from scipy.stats import norm\n",
    "from statsmodels.stats.proportion import proportions_ztest\n",
    "import pingouin\n",
    "from scipy.stats import chisquare\n",
    "\n",
    "import matplotlib.pyplot as plt"
   ]
  },
  {
   "cell_type": "code",
   "execution_count": 2,
   "id": "464351d0-33d4-4586-82e1-1549027fd9dc",
   "metadata": {},
   "outputs": [],
   "source": [
    "stack_overflow = pd.read_feather('stack_overflow.feather')"
   ]
  },
  {
   "cell_type": "code",
   "execution_count": 3,
   "id": "7c44dcfe-9ff9-444c-9e8e-ff668d5b9caf",
   "metadata": {},
   "outputs": [
    {
     "data": {
      "text/html": [
       "<div>\n",
       "<style scoped>\n",
       "    .dataframe tbody tr th:only-of-type {\n",
       "        vertical-align: middle;\n",
       "    }\n",
       "\n",
       "    .dataframe tbody tr th {\n",
       "        vertical-align: top;\n",
       "    }\n",
       "\n",
       "    .dataframe thead th {\n",
       "        text-align: right;\n",
       "    }\n",
       "</style>\n",
       "<table border=\"1\" class=\"dataframe\">\n",
       "  <thead>\n",
       "    <tr style=\"text-align: right;\">\n",
       "      <th></th>\n",
       "      <th>respondent</th>\n",
       "      <th>main_branch</th>\n",
       "      <th>hobbyist</th>\n",
       "      <th>age</th>\n",
       "      <th>age_1st_code</th>\n",
       "      <th>age_first_code_cut</th>\n",
       "      <th>comp_freq</th>\n",
       "      <th>comp_total</th>\n",
       "      <th>converted_comp</th>\n",
       "      <th>country</th>\n",
       "      <th>...</th>\n",
       "      <th>survey_length</th>\n",
       "      <th>trans</th>\n",
       "      <th>undergrad_major</th>\n",
       "      <th>webframe_desire_next_year</th>\n",
       "      <th>webframe_worked_with</th>\n",
       "      <th>welcome_change</th>\n",
       "      <th>work_week_hrs</th>\n",
       "      <th>years_code</th>\n",
       "      <th>years_code_pro</th>\n",
       "      <th>age_cat</th>\n",
       "    </tr>\n",
       "  </thead>\n",
       "  <tbody>\n",
       "    <tr>\n",
       "      <th>0</th>\n",
       "      <td>36.0</td>\n",
       "      <td>I am not primarily a developer, but I write co...</td>\n",
       "      <td>Yes</td>\n",
       "      <td>34.0</td>\n",
       "      <td>30.0</td>\n",
       "      <td>adult</td>\n",
       "      <td>Yearly</td>\n",
       "      <td>60000.0</td>\n",
       "      <td>77556.0</td>\n",
       "      <td>United Kingdom</td>\n",
       "      <td>...</td>\n",
       "      <td>Appropriate in length</td>\n",
       "      <td>No</td>\n",
       "      <td>Computer science, computer engineering, or sof...</td>\n",
       "      <td>Express;React.js</td>\n",
       "      <td>Express;React.js</td>\n",
       "      <td>Just as welcome now as I felt last year</td>\n",
       "      <td>40.0</td>\n",
       "      <td>4.0</td>\n",
       "      <td>3.0</td>\n",
       "      <td>At least 30</td>\n",
       "    </tr>\n",
       "    <tr>\n",
       "      <th>1</th>\n",
       "      <td>47.0</td>\n",
       "      <td>I am a developer by profession</td>\n",
       "      <td>Yes</td>\n",
       "      <td>53.0</td>\n",
       "      <td>10.0</td>\n",
       "      <td>child</td>\n",
       "      <td>Yearly</td>\n",
       "      <td>58000.0</td>\n",
       "      <td>74970.0</td>\n",
       "      <td>United Kingdom</td>\n",
       "      <td>...</td>\n",
       "      <td>Appropriate in length</td>\n",
       "      <td>No</td>\n",
       "      <td>A natural science (such as biology, chemistry,...</td>\n",
       "      <td>Flask;Spring</td>\n",
       "      <td>Flask;Spring</td>\n",
       "      <td>Just as welcome now as I felt last year</td>\n",
       "      <td>40.0</td>\n",
       "      <td>43.0</td>\n",
       "      <td>28.0</td>\n",
       "      <td>At least 30</td>\n",
       "    </tr>\n",
       "    <tr>\n",
       "      <th>2</th>\n",
       "      <td>69.0</td>\n",
       "      <td>I am a developer by profession</td>\n",
       "      <td>Yes</td>\n",
       "      <td>25.0</td>\n",
       "      <td>12.0</td>\n",
       "      <td>child</td>\n",
       "      <td>Yearly</td>\n",
       "      <td>550000.0</td>\n",
       "      <td>594539.0</td>\n",
       "      <td>France</td>\n",
       "      <td>...</td>\n",
       "      <td>Too short</td>\n",
       "      <td>No</td>\n",
       "      <td>Computer science, computer engineering, or sof...</td>\n",
       "      <td>Django;Flask</td>\n",
       "      <td>Django;Flask</td>\n",
       "      <td>Just as welcome now as I felt last year</td>\n",
       "      <td>40.0</td>\n",
       "      <td>13.0</td>\n",
       "      <td>3.0</td>\n",
       "      <td>Under 30</td>\n",
       "    </tr>\n",
       "    <tr>\n",
       "      <th>3</th>\n",
       "      <td>125.0</td>\n",
       "      <td>I am not primarily a developer, but I write co...</td>\n",
       "      <td>Yes</td>\n",
       "      <td>41.0</td>\n",
       "      <td>30.0</td>\n",
       "      <td>adult</td>\n",
       "      <td>Monthly</td>\n",
       "      <td>200000.0</td>\n",
       "      <td>2000000.0</td>\n",
       "      <td>United States</td>\n",
       "      <td>...</td>\n",
       "      <td>Appropriate in length</td>\n",
       "      <td>No</td>\n",
       "      <td>None</td>\n",
       "      <td>None</td>\n",
       "      <td>None</td>\n",
       "      <td>Just as welcome now as I felt last year</td>\n",
       "      <td>40.0</td>\n",
       "      <td>11.0</td>\n",
       "      <td>11.0</td>\n",
       "      <td>At least 30</td>\n",
       "    </tr>\n",
       "    <tr>\n",
       "      <th>4</th>\n",
       "      <td>147.0</td>\n",
       "      <td>I am not primarily a developer, but I write co...</td>\n",
       "      <td>No</td>\n",
       "      <td>28.0</td>\n",
       "      <td>15.0</td>\n",
       "      <td>adult</td>\n",
       "      <td>Yearly</td>\n",
       "      <td>50000.0</td>\n",
       "      <td>37816.0</td>\n",
       "      <td>Canada</td>\n",
       "      <td>...</td>\n",
       "      <td>Appropriate in length</td>\n",
       "      <td>No</td>\n",
       "      <td>Another engineering discipline (such as civil,...</td>\n",
       "      <td>None</td>\n",
       "      <td>Express;Flask</td>\n",
       "      <td>Just as welcome now as I felt last year</td>\n",
       "      <td>40.0</td>\n",
       "      <td>5.0</td>\n",
       "      <td>3.0</td>\n",
       "      <td>Under 30</td>\n",
       "    </tr>\n",
       "  </tbody>\n",
       "</table>\n",
       "<p>5 rows × 63 columns</p>\n",
       "</div>"
      ],
      "text/plain": [
       "   respondent                                        main_branch hobbyist  \\\n",
       "0        36.0  I am not primarily a developer, but I write co...      Yes   \n",
       "1        47.0                     I am a developer by profession      Yes   \n",
       "2        69.0                     I am a developer by profession      Yes   \n",
       "3       125.0  I am not primarily a developer, but I write co...      Yes   \n",
       "4       147.0  I am not primarily a developer, but I write co...       No   \n",
       "\n",
       "    age  age_1st_code age_first_code_cut comp_freq  comp_total  \\\n",
       "0  34.0          30.0              adult    Yearly     60000.0   \n",
       "1  53.0          10.0              child    Yearly     58000.0   \n",
       "2  25.0          12.0              child    Yearly    550000.0   \n",
       "3  41.0          30.0              adult   Monthly    200000.0   \n",
       "4  28.0          15.0              adult    Yearly     50000.0   \n",
       "\n",
       "   converted_comp         country  ...          survey_length trans  \\\n",
       "0         77556.0  United Kingdom  ...  Appropriate in length    No   \n",
       "1         74970.0  United Kingdom  ...  Appropriate in length    No   \n",
       "2        594539.0          France  ...              Too short    No   \n",
       "3       2000000.0   United States  ...  Appropriate in length    No   \n",
       "4         37816.0          Canada  ...  Appropriate in length    No   \n",
       "\n",
       "                                     undergrad_major  \\\n",
       "0  Computer science, computer engineering, or sof...   \n",
       "1  A natural science (such as biology, chemistry,...   \n",
       "2  Computer science, computer engineering, or sof...   \n",
       "3                                               None   \n",
       "4  Another engineering discipline (such as civil,...   \n",
       "\n",
       "  webframe_desire_next_year webframe_worked_with  \\\n",
       "0          Express;React.js     Express;React.js   \n",
       "1              Flask;Spring         Flask;Spring   \n",
       "2              Django;Flask         Django;Flask   \n",
       "3                      None                 None   \n",
       "4                      None        Express;Flask   \n",
       "\n",
       "                            welcome_change work_week_hrs years_code  \\\n",
       "0  Just as welcome now as I felt last year          40.0        4.0   \n",
       "1  Just as welcome now as I felt last year          40.0       43.0   \n",
       "2  Just as welcome now as I felt last year          40.0       13.0   \n",
       "3  Just as welcome now as I felt last year          40.0       11.0   \n",
       "4  Just as welcome now as I felt last year          40.0        5.0   \n",
       "\n",
       "  years_code_pro      age_cat  \n",
       "0            3.0  At least 30  \n",
       "1           28.0  At least 30  \n",
       "2            3.0     Under 30  \n",
       "3           11.0  At least 30  \n",
       "4            3.0     Under 30  \n",
       "\n",
       "[5 rows x 63 columns]"
      ]
     },
     "execution_count": 3,
     "metadata": {},
     "output_type": "execute_result"
    }
   ],
   "source": [
    "stack_overflow.head()"
   ]
  },
  {
   "cell_type": "markdown",
   "id": "9d28281e-a9ea-4e9f-aa5f-c9b15fd2ae59",
   "metadata": {},
   "source": [
    "## Z-score\n",
    "$$z = \\frac{sample\\ statistic - hypoth.param.value}{standard\\ error}$$\n",
    "- standard error: standard deviation of the bootstrap distribution\n",
    "- sample statistic: sample proportion\n",
    "- hypoth.param.value: hypothesized progortion of population"
   ]
  },
  {
   "cell_type": "markdown",
   "id": "40ee1e4b-e40e-4627-baf7-291b4d187fbd",
   "metadata": {},
   "source": [
    "### Z-score and p-value for one-sample proportion test"
   ]
  },
  {
   "cell_type": "code",
   "execution_count": 4,
   "id": "8439489e-98d5-4b07-af9d-8e8d013e289e",
   "metadata": {},
   "outputs": [
    {
     "data": {
      "text/plain": [
       "Under 30       0.535604\n",
       "At least 30    0.464396\n",
       "Name: age_cat, dtype: float64"
      ]
     },
     "execution_count": 4,
     "metadata": {},
     "output_type": "execute_result"
    }
   ],
   "source": [
    "stack_overflow['age_cat'].value_counts(normalize=True)"
   ]
  },
  {
   "cell_type": "code",
   "execution_count": 5,
   "id": "5335a7d6-62e4-4865-85d7-b40a7ffdc623",
   "metadata": {},
   "outputs": [
    {
     "name": "stdout",
     "output_type": "stream",
     "text": [
      "significance level: 0.01, sample proportion: 0.5356037151702786\n"
     ]
    }
   ],
   "source": [
    "alpha = 0.01\n",
    "p_hat = (stack_overflow['age_cat']=='Under 30').mean()\n",
    "print(f'significance level: {alpha}, sample proportion: {p_hat}')"
   ]
  },
  {
   "cell_type": "code",
   "execution_count": 6,
   "id": "697174be-9749-4833-b8fc-49fbd31917fa",
   "metadata": {},
   "outputs": [
    {
     "name": "stdout",
     "output_type": "stream",
     "text": [
      "hypothesized proportion of population: 0.5\n"
     ]
    }
   ],
   "source": [
    "p_0 = 0.5\n",
    "print(f'hypothesized proportion of population: {p_0}')"
   ]
  },
  {
   "cell_type": "code",
   "execution_count": 7,
   "id": "97c686f7-c5ec-4102-84e7-69c3ebf3b8ab",
   "metadata": {},
   "outputs": [
    {
     "name": "stdout",
     "output_type": "stream",
     "text": [
      "sample size: 2261\n"
     ]
    }
   ],
   "source": [
    "n = len(stack_overflow)\n",
    "print(f'sample size: {n}')"
   ]
  },
  {
   "cell_type": "code",
   "execution_count": 8,
   "id": "457fffcc-1995-4298-9a0c-8633ff5db1b3",
   "metadata": {},
   "outputs": [
    {
     "name": "stdout",
     "output_type": "stream",
     "text": [
      "Z-score: 3.385911440783663\n"
     ]
    }
   ],
   "source": [
    "numerator = p_hat - p_0\n",
    "denominator = np.sqrt(p_0*(1-p_0)/n)\n",
    "z_score = numerator/denominator\n",
    "print(f'Z-score: {z_score}')"
   ]
  },
  {
   "cell_type": "code",
   "execution_count": 9,
   "id": "d359b6e3-94c0-44eb-9f06-63e1408151d0",
   "metadata": {},
   "outputs": [
    {
     "name": "stdout",
     "output_type": "stream",
     "text": [
      "p-value for right-tailed test: 0.00035471136840503625\n",
      "More participants under 30 than at least 30? True\n"
     ]
    }
   ],
   "source": [
    "p_value = 1- norm.cdf(z_score)\n",
    "print(f'p-value for right-tailed test: {p_value}')\n",
    "print(f'More participants under 30 than at least 30? {p_value < p_0}')"
   ]
  },
  {
   "cell_type": "code",
   "execution_count": 10,
   "id": "c21e1371-32c3-4dc2-b3f2-025d6dc6e943",
   "metadata": {},
   "outputs": [
    {
     "name": "stdout",
     "output_type": "stream",
     "text": [
      "p-value for two-tailed test: 0.0007094227368100725\n",
      "Number of participants under 30 and at least 30 are not equal? True\n"
     ]
    }
   ],
   "source": [
    "p_value_two_tailed = 2*(1-norm.cdf(z_score)) # = norm.cdf(-z_score) + 1-norm.cdf(z_score)\n",
    "print(f'p-value for two-tailed test: {p_value_two_tailed}')\n",
    "print(f'Number of participants under 30 and at least 30 are not equal? {p_value_two_tailed < p_0}')"
   ]
  },
  {
   "cell_type": "markdown",
   "id": "96d53c1b-827e-494b-b228-40feddbd5eeb",
   "metadata": {},
   "source": [
    "### Z-score and p-value for two-sample proportion test"
   ]
  },
  {
   "cell_type": "markdown",
   "id": "65200f6c-b34b-4fc5-9654-4c41d7162aa9",
   "metadata": {},
   "source": [
    "#### Method 1: step-by-step"
   ]
  },
  {
   "cell_type": "code",
   "execution_count": 11,
   "id": "4a627434-965b-4a62-b30a-5e9abe3e07d2",
   "metadata": {},
   "outputs": [
    {
     "name": "stdout",
     "output_type": "stream",
     "text": [
      "Sample proportion: ≥30: 0.7733333333333333, <30: 0.8431048720066061\n"
     ]
    }
   ],
   "source": [
    "p_hats = stack_overflow.groupby('age_cat')['hobbyist'].value_counts(normalize=True)\n",
    "p_hat_at_least_30 = p_hats[(\"At least 30\", \"Yes\")]\n",
    "p_hat_under_30 = p_hats[(\"Under 30\", \"Yes\")]\n",
    "print(f'Sample proportion: ≥30: {p_hat_at_least_30}, <30: {p_hat_under_30}')"
   ]
  },
  {
   "cell_type": "code",
   "execution_count": 12,
   "id": "acc897e3-752f-4916-baed-96d20aae7cf9",
   "metadata": {},
   "outputs": [
    {
     "name": "stdout",
     "output_type": "stream",
     "text": [
      "Sample size: ≥30: 1050, <30: 1211\n"
     ]
    }
   ],
   "source": [
    "n = stack_overflow.groupby('age_cat')['hobbyist'].count()\n",
    "n_at_least_30 = n[\"At least 30\"]\n",
    "n_under_30 = n[\"Under 30\"]\n",
    "print(f'Sample size: ≥30: {n_at_least_30}, <30: {n_under_30}')"
   ]
  },
  {
   "cell_type": "code",
   "execution_count": 13,
   "id": "6337d90e-1e05-4e9f-9f79-19c5e840adef",
   "metadata": {},
   "outputs": [
    {
     "name": "stdout",
     "output_type": "stream",
     "text": [
      "Z-score: -4.223691463320559\n"
     ]
    }
   ],
   "source": [
    "# Calculate the pooled estimate of the population proportion\n",
    "p_hat = (n_at_least_30*p_hat_at_least_30 + n_under_30*p_hat_under_30)/(n_at_least_30+n_under_30)\n",
    "\n",
    "std_error = np.sqrt(p_hat*(1-p_hat)/n_at_least_30 + p_hat*(1-p_hat)/n_under_30)\n",
    "z_score = (p_hat_at_least_30 - p_hat_under_30)/std_error\n",
    "print(f'Z-score: {z_score}')"
   ]
  },
  {
   "cell_type": "code",
   "execution_count": 14,
   "id": "0bbc4e3b-bb7b-4d5a-93f3-60412e3a132c",
   "metadata": {},
   "outputs": [
    {
     "name": "stdout",
     "output_type": "stream",
     "text": [
      "p-value for two-tailed test: 1.9999759666985732\n"
     ]
    }
   ],
   "source": [
    "# Two-tailed test (\"not equal\")\n",
    "p_value_two_tailed = 2*(1-norm.cdf(z_score))\n",
    "print(f'p-value for two-tailed test: {p_value_two_tailed}')"
   ]
  },
  {
   "cell_type": "markdown",
   "id": "19655be5-2aa9-4be1-95b5-a7eaea75eeb4",
   "metadata": {},
   "source": [
    "#### Method 2: statsmodels.stats.proportion.proportion_ztest"
   ]
  },
  {
   "cell_type": "code",
   "execution_count": 15,
   "id": "057f6561-1899-4998-b468-850a29f09028",
   "metadata": {},
   "outputs": [
    {
     "data": {
      "text/plain": [
       "age_cat      hobbyist\n",
       "At least 30  Yes          812\n",
       "             No           238\n",
       "Under 30     Yes         1021\n",
       "             No           190\n",
       "Name: hobbyist, dtype: int64"
      ]
     },
     "execution_count": 15,
     "metadata": {},
     "output_type": "execute_result"
    }
   ],
   "source": [
    "age_by_hobbyist = stack_overflow.groupby('age_cat')['hobbyist'].value_counts()\n",
    "age_by_hobbyist"
   ]
  },
  {
   "cell_type": "code",
   "execution_count": 16,
   "id": "0c8ee6e3-b249-483b-ab90-226601134766",
   "metadata": {},
   "outputs": [],
   "source": [
    "success_counts = np.array([age_by_hobbyist[(\"At least 30\", \"Yes\")], age_by_hobbyist[(\"Under 30\", \"Yes\")]])\n",
    "n = np.array([sum(age_by_hobbyist[\"At least 30\"]), sum(age_by_hobbyist[\"Under 30\"])])"
   ]
  },
  {
   "cell_type": "code",
   "execution_count": 17,
   "id": "af2b97bf-9e23-491f-8a54-249a12c890db",
   "metadata": {},
   "outputs": [
    {
     "name": "stdout",
     "output_type": "stream",
     "text": [
      "Z-score: -4.223691463320559, p-value: 2.403330142685068e-05\n"
     ]
    }
   ],
   "source": [
    "stat, p_value = proportions_ztest(count=success_counts, nobs=n, alternative=\"two-sided\") # alternative = \"larger\"/\"two-sided\"/\"smaller\"\n",
    "print(f'Z-score: {stat}, p-value: {p_value}')"
   ]
  },
  {
   "cell_type": "markdown",
   "id": "2304eb08-eded-41fb-a444-c75c61d3c6f3",
   "metadata": {},
   "source": [
    "## Chi-squared test ($\\chi^2$ test)\n",
    "= test for independence of variables\n",
    "<br>$\\chi^2$: assuming independence, quantifies how far away the observed results are from the expected values\n",
    "$$\\chi^2 = Z^2$$\n",
    "$H_0$: independence\n",
    "<br>e.g. test if job satisfaction levels (5 categories) and age category (2 categories) are independent"
   ]
  },
  {
   "cell_type": "code",
   "execution_count": 18,
   "id": "9b7a37f4-da45-4753-834d-9ee84e5427ca",
   "metadata": {},
   "outputs": [
    {
     "data": {
      "text/plain": [
       "<AxesSubplot:xlabel='job_sat'>"
      ]
     },
     "execution_count": 18,
     "metadata": {},
     "output_type": "execute_result"
    },
    {
     "data": {
      "image/png": "[encoded data removed]",
      "text/plain": [
       "<Figure size 432x288 with 1 Axes>"
      ]
     },
     "metadata": {
      "needs_background": "light"
     },
     "output_type": "display_data"
    }
   ],
   "source": [
    "# EDA: proportional stacked bar plot\n",
    "props = stack_overflow.groupby('job_sat')['age_cat'].value_counts(normalize=True) # proportion of age_cat grouped by job_sat\n",
    "wide_props = props.unstack() # unstack the result to be in wide format instead of long\n",
    "wide_props.plot(kind='bar', stacked=True)"
   ]
  },
  {
   "cell_type": "code",
   "execution_count": 19,
   "id": "18032c01-bd05-4644-bd5a-4affbb2b1fff",
   "metadata": {},
   "outputs": [
    {
     "data": {
      "text/html": [
       "<div>\n",
       "<style scoped>\n",
       "    .dataframe tbody tr th:only-of-type {\n",
       "        vertical-align: middle;\n",
       "    }\n",
       "\n",
       "    .dataframe tbody tr th {\n",
       "        vertical-align: top;\n",
       "    }\n",
       "\n",
       "    .dataframe thead th {\n",
       "        text-align: right;\n",
       "    }\n",
       "</style>\n",
       "<table border=\"1\" class=\"dataframe\">\n",
       "  <thead>\n",
       "    <tr style=\"text-align: right;\">\n",
       "      <th></th>\n",
       "      <th>test</th>\n",
       "      <th>lambda</th>\n",
       "      <th>chi2</th>\n",
       "      <th>dof</th>\n",
       "      <th>pval</th>\n",
       "      <th>cramer</th>\n",
       "      <th>power</th>\n",
       "    </tr>\n",
       "  </thead>\n",
       "  <tbody>\n",
       "    <tr>\n",
       "      <th>0</th>\n",
       "      <td>pearson</td>\n",
       "      <td>1.000000</td>\n",
       "      <td>5.552373</td>\n",
       "      <td>4.0</td>\n",
       "      <td>0.235164</td>\n",
       "      <td>0.049555</td>\n",
       "      <td>0.437417</td>\n",
       "    </tr>\n",
       "    <tr>\n",
       "      <th>1</th>\n",
       "      <td>cressie-read</td>\n",
       "      <td>0.666667</td>\n",
       "      <td>5.554106</td>\n",
       "      <td>4.0</td>\n",
       "      <td>0.235014</td>\n",
       "      <td>0.049563</td>\n",
       "      <td>0.437545</td>\n",
       "    </tr>\n",
       "    <tr>\n",
       "      <th>2</th>\n",
       "      <td>log-likelihood</td>\n",
       "      <td>0.000000</td>\n",
       "      <td>5.558529</td>\n",
       "      <td>4.0</td>\n",
       "      <td>0.234632</td>\n",
       "      <td>0.049583</td>\n",
       "      <td>0.437871</td>\n",
       "    </tr>\n",
       "    <tr>\n",
       "      <th>3</th>\n",
       "      <td>freeman-tukey</td>\n",
       "      <td>-0.500000</td>\n",
       "      <td>5.562688</td>\n",
       "      <td>4.0</td>\n",
       "      <td>0.234274</td>\n",
       "      <td>0.049601</td>\n",
       "      <td>0.438178</td>\n",
       "    </tr>\n",
       "    <tr>\n",
       "      <th>4</th>\n",
       "      <td>mod-log-likelihood</td>\n",
       "      <td>-1.000000</td>\n",
       "      <td>5.567570</td>\n",
       "      <td>4.0</td>\n",
       "      <td>0.233854</td>\n",
       "      <td>0.049623</td>\n",
       "      <td>0.438538</td>\n",
       "    </tr>\n",
       "    <tr>\n",
       "      <th>5</th>\n",
       "      <td>neyman</td>\n",
       "      <td>-2.000000</td>\n",
       "      <td>5.579519</td>\n",
       "      <td>4.0</td>\n",
       "      <td>0.232828</td>\n",
       "      <td>0.049676</td>\n",
       "      <td>0.439419</td>\n",
       "    </tr>\n",
       "  </tbody>\n",
       "</table>\n",
       "</div>"
      ],
      "text/plain": [
       "                 test    lambda      chi2  dof      pval    cramer     power\n",
       "0             pearson  1.000000  5.552373  4.0  0.235164  0.049555  0.437417\n",
       "1        cressie-read  0.666667  5.554106  4.0  0.235014  0.049563  0.437545\n",
       "2      log-likelihood  0.000000  5.558529  4.0  0.234632  0.049583  0.437871\n",
       "3       freeman-tukey -0.500000  5.562688  4.0  0.234274  0.049601  0.438178\n",
       "4  mod-log-likelihood -1.000000  5.567570  4.0  0.233854  0.049623  0.438538\n",
       "5              neyman -2.000000  5.579519  4.0  0.232828  0.049676  0.439419"
      ]
     },
     "execution_count": 19,
     "metadata": {},
     "output_type": "execute_result"
    }
   ],
   "source": [
    "# chi2 of age_cat vs. job_sat\n",
    "expected, observed, stats = pingouin.chi2_independence(data=stack_overflow, \n",
    "                                                       x='job_sat', \n",
    "                                                       y='age_cat',\n",
    "                                                       correction=False)\n",
    "stats"
   ]
  },
  {
   "cell_type": "markdown",
   "id": "8445cdb5-31ec-41bc-b14b-d6bdb0a01dc5",
   "metadata": {},
   "source": [
    "> <i>correction</i>: specifies whether or not to apply Yate's continuity correction, typically applied when the sample size is small and degrees of freedom is 1. In this case since each group has relatively large records, we don't need it here"
   ]
  },
  {
   "cell_type": "markdown",
   "id": "33c47eca-c2b8-4df5-9ace-f2341f3b113d",
   "metadata": {},
   "source": [
    "> $dof = (No. of\\ response\\ categories - 1) * (No. of\\ explanatory\\ categories - 1)$\n",
    "<br>= (2-1) * (5-1) = 4"
   ]
  },
  {
   "cell_type": "markdown",
   "id": "45e3f3d3-51a7-46bc-9301-da5eb8a52519",
   "metadata": {},
   "source": [
    "#### Swap the repsonse and explanatory variables"
   ]
  },
  {
   "cell_type": "code",
   "execution_count": 20,
   "id": "b09462f8-0ed3-4c79-9f35-5a6064c5319b",
   "metadata": {},
   "outputs": [
    {
     "data": {
      "text/plain": [
       "<AxesSubplot:xlabel='age_cat'>"
      ]
     },
     "execution_count": 20,
     "metadata": {},
     "output_type": "execute_result"
    },
    {
     "data": {
      "image/png": "[encoded data removed]",
      "text/plain": [
       "<Figure size 432x288 with 1 Axes>"
      ]
     },
     "metadata": {
      "needs_background": "light"
     },
     "output_type": "display_data"
    }
   ],
   "source": [
    "# EDA \n",
    "props = stack_overflow.groupby('age_cat')['job_sat'].value_counts(normalize=True)\n",
    "wide_props = props.unstack()\n",
    "wide_props.plot(kind='bar', stacked=True)"
   ]
  },
  {
   "cell_type": "code",
   "execution_count": 21,
   "id": "ac3e912a-6279-4888-be0e-27901e6dd286",
   "metadata": {},
   "outputs": [
    {
     "data": {
      "text/html": [
       "<div>\n",
       "<style scoped>\n",
       "    .dataframe tbody tr th:only-of-type {\n",
       "        vertical-align: middle;\n",
       "    }\n",
       "\n",
       "    .dataframe tbody tr th {\n",
       "        vertical-align: top;\n",
       "    }\n",
       "\n",
       "    .dataframe thead th {\n",
       "        text-align: right;\n",
       "    }\n",
       "</style>\n",
       "<table border=\"1\" class=\"dataframe\">\n",
       "  <thead>\n",
       "    <tr style=\"text-align: right;\">\n",
       "      <th></th>\n",
       "      <th>test</th>\n",
       "      <th>lambda</th>\n",
       "      <th>chi2</th>\n",
       "      <th>dof</th>\n",
       "      <th>pval</th>\n",
       "      <th>cramer</th>\n",
       "      <th>power</th>\n",
       "    </tr>\n",
       "  </thead>\n",
       "  <tbody>\n",
       "    <tr>\n",
       "      <th>0</th>\n",
       "      <td>pearson</td>\n",
       "      <td>1.0</td>\n",
       "      <td>5.552373</td>\n",
       "      <td>4.0</td>\n",
       "      <td>0.235164</td>\n",
       "      <td>0.049555</td>\n",
       "      <td>0.437417</td>\n",
       "    </tr>\n",
       "  </tbody>\n",
       "</table>\n",
       "</div>"
      ],
      "text/plain": [
       "      test  lambda      chi2  dof      pval    cramer     power\n",
       "0  pearson     1.0  5.552373  4.0  0.235164  0.049555  0.437417"
      ]
     },
     "execution_count": 21,
     "metadata": {},
     "output_type": "execute_result"
    }
   ],
   "source": [
    "# chi2 of job_sat vs. age_cat\n",
    "expected, observed, stats = pingouin.chi2_independence(data=stack_overflow, \n",
    "                                                       x='age_cat', \n",
    "                                                       y='job_sat')\n",
    "stats[stats['test']=='pearson']"
   ]
  },
  {
   "cell_type": "markdown",
   "id": "2a25aef3-dad1-4bc8-890e-bddcc3898725",
   "metadata": {},
   "source": [
    "> After swapping variables, the stats of chi2 test is <b>identical</b>\n",
    "><br> So we should rephrase the question as: <b>are the variables X and Y independent?</b> since the order doesn't matter"
   ]
  },
  {
   "cell_type": "markdown",
   "id": "d38053b9-4487-4eee-84fa-6a3917caf339",
   "metadata": {},
   "source": [
    "## Goodness of fit test (one-sample Chi-square test)"
   ]
  },
  {
   "cell_type": "code",
   "execution_count": 22,
   "id": "b4d25ac7-56f6-47a7-b8f3-990cd34e4f06",
   "metadata": {},
   "outputs": [
    {
     "data": {
      "text/html": [
       "<div>\n",
       "<style scoped>\n",
       "    .dataframe tbody tr th:only-of-type {\n",
       "        vertical-align: middle;\n",
       "    }\n",
       "\n",
       "    .dataframe tbody tr th {\n",
       "        vertical-align: top;\n",
       "    }\n",
       "\n",
       "    .dataframe thead th {\n",
       "        text-align: right;\n",
       "    }\n",
       "</style>\n",
       "<table border=\"1\" class=\"dataframe\">\n",
       "  <thead>\n",
       "    <tr style=\"text-align: right;\">\n",
       "      <th></th>\n",
       "      <th>purple_link</th>\n",
       "      <th>n</th>\n",
       "    </tr>\n",
       "  </thead>\n",
       "  <tbody>\n",
       "    <tr>\n",
       "      <th>0</th>\n",
       "      <td>Hello, old friend</td>\n",
       "      <td>1225</td>\n",
       "    </tr>\n",
       "    <tr>\n",
       "      <th>1</th>\n",
       "      <td>Indifferent</td>\n",
       "      <td>405</td>\n",
       "    </tr>\n",
       "    <tr>\n",
       "      <th>2</th>\n",
       "      <td>Amused</td>\n",
       "      <td>368</td>\n",
       "    </tr>\n",
       "    <tr>\n",
       "      <th>3</th>\n",
       "      <td>Annoyed</td>\n",
       "      <td>263</td>\n",
       "    </tr>\n",
       "  </tbody>\n",
       "</table>\n",
       "</div>"
      ],
      "text/plain": [
       "         purple_link     n\n",
       "0  Hello, old friend  1225\n",
       "1        Indifferent   405\n",
       "2             Amused   368\n",
       "3            Annoyed   263"
      ]
     },
     "execution_count": 22,
     "metadata": {},
     "output_type": "execute_result"
    }
   ],
   "source": [
    "purple_link_counts = stack_overflow['purple_link'].value_counts()\n",
    "purple_link_counts = purple_link_counts.rename_axis('purple_link').reset_index(name='n')\n",
    "purple_link_counts"
   ]
  },
  {
   "cell_type": "code",
   "execution_count": 23,
   "id": "3c70f524-259b-49d3-ad64-ec752d480586",
   "metadata": {},
   "outputs": [
    {
     "data": {
      "text/html": [
       "<div>\n",
       "<style scoped>\n",
       "    .dataframe tbody tr th:only-of-type {\n",
       "        vertical-align: middle;\n",
       "    }\n",
       "\n",
       "    .dataframe tbody tr th {\n",
       "        vertical-align: top;\n",
       "    }\n",
       "\n",
       "    .dataframe thead th {\n",
       "        text-align: right;\n",
       "    }\n",
       "</style>\n",
       "<table border=\"1\" class=\"dataframe\">\n",
       "  <thead>\n",
       "    <tr style=\"text-align: right;\">\n",
       "      <th></th>\n",
       "      <th>purple_link</th>\n",
       "      <th>prop</th>\n",
       "      <th>n</th>\n",
       "    </tr>\n",
       "  </thead>\n",
       "  <tbody>\n",
       "    <tr>\n",
       "      <th>0</th>\n",
       "      <td>Hello, old friend</td>\n",
       "      <td>0.500000</td>\n",
       "      <td>1130.500000</td>\n",
       "    </tr>\n",
       "    <tr>\n",
       "      <th>1</th>\n",
       "      <td>Amused</td>\n",
       "      <td>0.166667</td>\n",
       "      <td>376.833333</td>\n",
       "    </tr>\n",
       "    <tr>\n",
       "      <th>2</th>\n",
       "      <td>Indifferent</td>\n",
       "      <td>0.166667</td>\n",
       "      <td>376.833333</td>\n",
       "    </tr>\n",
       "    <tr>\n",
       "      <th>3</th>\n",
       "      <td>Annoyed</td>\n",
       "      <td>0.166667</td>\n",
       "      <td>376.833333</td>\n",
       "    </tr>\n",
       "  </tbody>\n",
       "</table>\n",
       "</div>"
      ],
      "text/plain": [
       "         purple_link      prop            n\n",
       "0  Hello, old friend  0.500000  1130.500000\n",
       "1             Amused  0.166667   376.833333\n",
       "2        Indifferent  0.166667   376.833333\n",
       "3            Annoyed  0.166667   376.833333"
      ]
     },
     "execution_count": 23,
     "metadata": {},
     "output_type": "execute_result"
    }
   ],
   "source": [
    "hypothesized = pd.DataFrame({'purple_link': ['Hello, old friend', 'Amused', 'Indifferent', 'Annoyed'],\n",
    "                            'prop': [1/2, 1/6, 1/6, 1/6]})\n",
    "hypothesized['n'] = hypothesized['prop']*len(stack_overflow)\n",
    "hypothesized"
   ]
  },
  {
   "cell_type": "code",
   "execution_count": 24,
   "id": "fca80974-b1b5-4b51-99e2-327ea63d7eec",
   "metadata": {},
   "outputs": [
    {
     "data": {
      "image/png": "[encoded data removed]",
      "text/plain": [
       "<Figure size 432x288 with 1 Axes>"
      ]
     },
     "metadata": {
      "needs_background": "light"
     },
     "output_type": "display_data"
    }
   ],
   "source": [
    "# EDA\n",
    "plt.bar(purple_link_counts['purple_link'], purple_link_counts['n'], color=\"yellow\", alpha=0.5)\n",
    "plt.scatter(hypothesized['purple_link'], hypothesized['n'], color=\"purple\")\n",
    "plt.show()"
   ]
  },
  {
   "cell_type": "code",
   "execution_count": 25,
   "id": "178b3d75-8084-4aa1-90da-120441d18f32",
   "metadata": {},
   "outputs": [
    {
     "name": "stdout",
     "output_type": "stream",
     "text": [
      "Power_divergenceResult(statistic=44.59840778416629, pvalue=1.1261810719413759e-09)\n"
     ]
    }
   ],
   "source": [
    "# Goodness of fit test\n",
    "gof_test = chisquare(f_obs = purple_link_counts['n'], f_exp=hypothesized['n']) # alpha=0.01\n",
    "print(gof_test)"
   ]
  },
  {
   "cell_type": "markdown",
   "id": "9788c5df-9b2a-488f-9e3a-029262843c8d",
   "metadata": {},
   "source": [
    "> The p-value is much smaller than significance level, so the sample distribution of proportions is different from the hypothesized distribution of proportions"
   ]
  },
  {
   "cell_type": "markdown",
   "id": "a38d8cfd-3092-4c59-b448-3d8117ec7dc4",
   "metadata": {},
   "source": [
    "## Wilcoxon-Mann-Whitney test (Mann Whitney U test)"
   ]
  },
  {
   "cell_type": "code",
   "execution_count": 26,
   "id": "8726d226-b48c-479c-bb2b-e08dd7aa7014",
   "metadata": {},
   "outputs": [
    {
     "data": {
      "text/html": [
       "<div>\n",
       "<style scoped>\n",
       "    .dataframe tbody tr th:only-of-type {\n",
       "        vertical-align: middle;\n",
       "    }\n",
       "\n",
       "    .dataframe tbody tr th {\n",
       "        vertical-align: top;\n",
       "    }\n",
       "\n",
       "    .dataframe thead th {\n",
       "        text-align: right;\n",
       "    }\n",
       "</style>\n",
       "<table border=\"1\" class=\"dataframe\">\n",
       "  <thead>\n",
       "    <tr style=\"text-align: right;\">\n",
       "      <th></th>\n",
       "      <th>converted_comp</th>\n",
       "      <th>age_first_code_cut</th>\n",
       "    </tr>\n",
       "  </thead>\n",
       "  <tbody>\n",
       "    <tr>\n",
       "      <th>0</th>\n",
       "      <td>77556.0</td>\n",
       "      <td>adult</td>\n",
       "    </tr>\n",
       "    <tr>\n",
       "      <th>1</th>\n",
       "      <td>74970.0</td>\n",
       "      <td>child</td>\n",
       "    </tr>\n",
       "    <tr>\n",
       "      <th>2</th>\n",
       "      <td>594539.0</td>\n",
       "      <td>child</td>\n",
       "    </tr>\n",
       "    <tr>\n",
       "      <th>3</th>\n",
       "      <td>2000000.0</td>\n",
       "      <td>adult</td>\n",
       "    </tr>\n",
       "    <tr>\n",
       "      <th>4</th>\n",
       "      <td>37816.0</td>\n",
       "      <td>adult</td>\n",
       "    </tr>\n",
       "  </tbody>\n",
       "</table>\n",
       "</div>"
      ],
      "text/plain": [
       "   converted_comp age_first_code_cut\n",
       "0         77556.0              adult\n",
       "1         74970.0              child\n",
       "2        594539.0              child\n",
       "3       2000000.0              adult\n",
       "4         37816.0              adult"
      ]
     },
     "execution_count": 26,
     "metadata": {},
     "output_type": "execute_result"
    }
   ],
   "source": [
    "age_vs_comp = stack_overflow[['converted_comp', 'age_first_code_cut']]\n",
    "age_vs_comp.head()"
   ]
  },
  {
   "cell_type": "code",
   "execution_count": 27,
   "id": "b4aeb8d5-f695-4ac3-82c3-5742809ef63d",
   "metadata": {},
   "outputs": [
    {
     "data": {
      "text/html": [
       "<div>\n",
       "<style scoped>\n",
       "    .dataframe tbody tr th:only-of-type {\n",
       "        vertical-align: middle;\n",
       "    }\n",
       "\n",
       "    .dataframe tbody tr th {\n",
       "        vertical-align: top;\n",
       "    }\n",
       "\n",
       "    .dataframe thead th {\n",
       "        text-align: right;\n",
       "    }\n",
       "</style>\n",
       "<table border=\"1\" class=\"dataframe\">\n",
       "  <thead>\n",
       "    <tr style=\"text-align: right;\">\n",
       "      <th>age_first_code_cut</th>\n",
       "      <th>adult</th>\n",
       "      <th>child</th>\n",
       "    </tr>\n",
       "  </thead>\n",
       "  <tbody>\n",
       "    <tr>\n",
       "      <th>0</th>\n",
       "      <td>77556.0</td>\n",
       "      <td>NaN</td>\n",
       "    </tr>\n",
       "    <tr>\n",
       "      <th>1</th>\n",
       "      <td>NaN</td>\n",
       "      <td>74970.0</td>\n",
       "    </tr>\n",
       "    <tr>\n",
       "      <th>2</th>\n",
       "      <td>NaN</td>\n",
       "      <td>594539.0</td>\n",
       "    </tr>\n",
       "    <tr>\n",
       "      <th>3</th>\n",
       "      <td>2000000.0</td>\n",
       "      <td>NaN</td>\n",
       "    </tr>\n",
       "    <tr>\n",
       "      <th>4</th>\n",
       "      <td>37816.0</td>\n",
       "      <td>NaN</td>\n",
       "    </tr>\n",
       "  </tbody>\n",
       "</table>\n",
       "</div>"
      ],
      "text/plain": [
       "age_first_code_cut      adult     child\n",
       "0                     77556.0       NaN\n",
       "1                         NaN   74970.0\n",
       "2                         NaN  594539.0\n",
       "3                   2000000.0       NaN\n",
       "4                     37816.0       NaN"
      ]
     },
     "execution_count": 27,
     "metadata": {},
     "output_type": "execute_result"
    }
   ],
   "source": [
    "# Convert df from long to wide\n",
    "age_vs_comp_wide = age_vs_comp.pivot(columns='age_first_code_cut',\n",
    "                                     values='converted_comp')\n",
    "age_vs_comp_wide.head()"
   ]
  },
  {
   "cell_type": "code",
   "execution_count": 28,
   "id": "bdb01248-cd1e-4429-bbcc-8d16cd978d5a",
   "metadata": {},
   "outputs": [
    {
     "data": {
      "text/html": [
       "<div>\n",
       "<style scoped>\n",
       "    .dataframe tbody tr th:only-of-type {\n",
       "        vertical-align: middle;\n",
       "    }\n",
       "\n",
       "    .dataframe tbody tr th {\n",
       "        vertical-align: top;\n",
       "    }\n",
       "\n",
       "    .dataframe thead th {\n",
       "        text-align: right;\n",
       "    }\n",
       "</style>\n",
       "<table border=\"1\" class=\"dataframe\">\n",
       "  <thead>\n",
       "    <tr style=\"text-align: right;\">\n",
       "      <th></th>\n",
       "      <th>U-val</th>\n",
       "      <th>alternative</th>\n",
       "      <th>p-val</th>\n",
       "      <th>RBC</th>\n",
       "      <th>CLES</th>\n",
       "    </tr>\n",
       "  </thead>\n",
       "  <tbody>\n",
       "    <tr>\n",
       "      <th>MWU</th>\n",
       "      <td>744365.5</td>\n",
       "      <td>greater</td>\n",
       "      <td>1.902723e-19</td>\n",
       "      <td>-0.222516</td>\n",
       "      <td>0.611258</td>\n",
       "    </tr>\n",
       "  </tbody>\n",
       "</table>\n",
       "</div>"
      ],
      "text/plain": [
       "        U-val alternative         p-val       RBC      CLES\n",
       "MWU  744365.5     greater  1.902723e-19 -0.222516  0.611258"
      ]
     },
     "execution_count": 28,
     "metadata": {},
     "output_type": "execute_result"
    }
   ],
   "source": [
    "alpha = 0.01\n",
    "mwu_test = pingouin.mwu(x=age_vs_comp_wide['child'],\n",
    "                        y=age_vs_comp_wide['adult'],\n",
    "                        alternative='greater')\n",
    "mwu_test"
   ]
  },
  {
   "cell_type": "code",
   "execution_count": 29,
   "id": "b170a041-46dd-40e1-9f03-f7faacfedabe",
   "metadata": {},
   "outputs": [
    {
     "name": "stdout",
     "output_type": "stream",
     "text": [
      "Reject null hypothesis? True\n"
     ]
    }
   ],
   "source": [
    "print(f\"Reject null hypothesis? {mwu_test['p-val'][0]<alpha}\")"
   ]
  },
  {
   "cell_type": "markdown",
   "id": "31cf4b67-f2aa-4c68-837f-2e47317eb5ff",
   "metadata": {},
   "source": [
    "## Kruskal-Wallis test"
   ]
  },
  {
   "cell_type": "code",
   "execution_count": 30,
   "id": "852b61b2-2a1a-4c61-b487-7d33dfc66662",
   "metadata": {},
   "outputs": [
    {
     "data": {
      "text/html": [
       "<div>\n",
       "<style scoped>\n",
       "    .dataframe tbody tr th:only-of-type {\n",
       "        vertical-align: middle;\n",
       "    }\n",
       "\n",
       "    .dataframe tbody tr th {\n",
       "        vertical-align: top;\n",
       "    }\n",
       "\n",
       "    .dataframe thead th {\n",
       "        text-align: right;\n",
       "    }\n",
       "</style>\n",
       "<table border=\"1\" class=\"dataframe\">\n",
       "  <thead>\n",
       "    <tr style=\"text-align: right;\">\n",
       "      <th></th>\n",
       "      <th>Source</th>\n",
       "      <th>ddof1</th>\n",
       "      <th>H</th>\n",
       "      <th>p-unc</th>\n",
       "    </tr>\n",
       "  </thead>\n",
       "  <tbody>\n",
       "    <tr>\n",
       "      <th>Kruskal</th>\n",
       "      <td>job_sat</td>\n",
       "      <td>4</td>\n",
       "      <td>72.814939</td>\n",
       "      <td>5.772915e-15</td>\n",
       "    </tr>\n",
       "  </tbody>\n",
       "</table>\n",
       "</div>"
      ],
      "text/plain": [
       "          Source  ddof1          H         p-unc\n",
       "Kruskal  job_sat      4  72.814939  5.772915e-15"
      ]
     },
     "execution_count": 30,
     "metadata": {},
     "output_type": "execute_result"
    }
   ],
   "source": [
    "alpha = 0.01\n",
    "kruskal_test = pingouin.kruskal(data=stack_overflow,\n",
    "                                dv='converted_comp',\n",
    "                                between='job_sat')\n",
    "kruskal_test"
   ]
  },
  {
   "cell_type": "code",
   "execution_count": 31,
   "id": "5fa60049-aab4-455a-9e62-1ca27c94a6c7",
   "metadata": {},
   "outputs": [
    {
     "name": "stdout",
     "output_type": "stream",
     "text": [
      "At least one of the mean compensation totals is different than the others across job satisfaction groups? True\n"
     ]
    }
   ],
   "source": [
    "print(f\"At least one of the mean compensation totals is different than the others across job satisfaction groups? {kruskal_test['p-unc'][0]<alpha}\")"
   ]
  },
  {
   "cell_type": "code",
   "execution_count": null,
   "id": "bbe57a45-e7b8-4f68-a2b9-f0d81bf1172a",
   "metadata": {},
   "outputs": [],
   "source": []
  }
 ],
 "metadata": {
  "kernelspec": {
   "display_name": "Python 3 (ipykernel)",
   "language": "python",
   "name": "python3"
  },
  "language_info": {
   "codemirror_mode": {
    "name": "ipython",
    "version": 3
   },
   "file_extension": ".py",
   "mimetype": "text/x-python",
   "name": "python",
   "nbconvert_exporter": "python",
   "pygments_lexer": "ipython3",
   "version": "3.9.7"
  }
 },
 "nbformat": 4,
 "nbformat_minor": 5
}

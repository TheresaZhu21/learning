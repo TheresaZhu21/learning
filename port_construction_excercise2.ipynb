{
  "nbformat": 4,
  "nbformat_minor": 0,
  "metadata": {
    "colab": {
      "provenance": [],
      "authorship_tag": "ABX9TyPDa8PsIk8tY1T06WRaIOZJ",
      "include_colab_link": true
    },
    "kernelspec": {
      "name": "python3",
      "display_name": "Python 3"
    },
    "language_info": {
      "name": "python"
    }
  },
  "cells": [
    {
      "cell_type": "markdown",
      "metadata": {
        "id": "view-in-github",
        "colab_type": "text"
      },
      "source": [
        "<a href=\"https://colab.research.google.com/github/TheresaZhu21/learning/blob/main/port_construction_excercise2.ipynb\" target=\"_parent\"><img src=\"https://colab.research.google.com/assets/colab-badge.svg\" alt=\"Open In Colab\"/></a>"
      ]
    },
    {
      "cell_type": "markdown",
      "source": [
        "# Portfolio construction excercise 2"
      ],
      "metadata": {
        "id": "H2Ju1H7CkiVz"
      }
    },
    {
      "cell_type": "code",
      "source": [
        "# !pip install yfinance\n",
        "# !pip install pyportfolioopt"
      ],
      "metadata": {
        "id": "0yIjQNiWZlig"
      },
      "execution_count": null,
      "outputs": []
    },
    {
      "cell_type": "code",
      "execution_count": null,
      "metadata": {
        "id": "SFh4cXnij7TM"
      },
      "outputs": [],
      "source": [
        "import numpy as np\n",
        "import pandas as pd\n",
        "import statsmodels.api as sm\n",
        "from pypfopt import CLA\n",
        "from pypfopt.expected_returns import mean_historical_return\n",
        "from pypfopt.risk_models import CovarianceShrinkage\n",
        "\n",
        "import yfinance as yf\n",
        "yf.pdr_override()\n",
        "from pandas_datareader import data as pdr\n",
        "import matplotlib.pyplot as plt"
      ]
    },
    {
      "cell_type": "markdown",
      "source": [
        "## 1. Risk & return"
      ],
      "metadata": {
        "id": "40rZDD0RYv7D"
      }
    },
    {
      "cell_type": "markdown",
      "source": [
        "### 1.1 Risk factors & financial crisis"
      ],
      "metadata": {
        "id": "7mjpA0Em2Wep"
      }
    },
    {
      "cell_type": "code",
      "source": [
        "start, end = '2005-01-01', '2010-12-31'"
      ],
      "metadata": {
        "id": "q1CxSvSWkk7J"
      },
      "execution_count": null,
      "outputs": []
    },
    {
      "cell_type": "code",
      "source": [
        "df_port = pdr.get_data_yahoo('VMBS', start=start, end=end) # Vanguard MBS Index Fund\n",
        "df_port['Return'] = df_port['Adj Close'].pct_change()\n",
        "df_port.head()"
      ],
      "metadata": {
        "id": "vffSkPW_cZN0"
      },
      "execution_count": null,
      "outputs": []
    },
    {
      "cell_type": "code",
      "source": [
        "# Convert daily returns to quarterly average returns\n",
        "returns_q = df_port['Return'].resample('Q').mean().dropna()\n",
        "returns_q = pd.DataFrame(returns_q)\n",
        "returns_q['Min Return'] = df_port['Return'].resample('Q').min().dropna()\n",
        "returns_q.head(3)"
      ],
      "metadata": {
        "id": "F_2FLb-5naHE"
      },
      "execution_count": null,
      "outputs": []
    },
    {
      "cell_type": "code",
      "source": [
        "# Quaterly volatility\n",
        "returns_q['Volatility'] = df_port['Return'].resample('Q').std()\n",
        "returns_q['90-Day Mortgage Delinquency Rate'] = [0.048, 0.045, 0.044, 0.042, 0.041, 0.040, 0.038, 0.039, 0.039]\n",
        "returns_q.head(2)"
      ],
      "metadata": {
        "id": "nH4yykEysBYl"
      },
      "execution_count": null,
      "outputs": []
    },
    {
      "cell_type": "code",
      "source": [
        "# Regress quarterly volatility against delinquencies\n",
        "model_OLS3 = sm.OLS(returns_q['Volatility'], returns_q['90-Day Mortgage Delinquency Rate']).fit()\n",
        "print(model_OLS3.summary())"
      ],
      "metadata": {
        "id": "htL7pNbj1jYU"
      },
      "execution_count": null,
      "outputs": []
    },
    {
      "cell_type": "code",
      "source": [
        "# Regress quarterly average returns against delinquencies\n",
        "model_OLS = sm.OLS(returns_q['Return'], returns_q['90-Day Mortgage Delinquency Rate']).fit()\n",
        "print(model_OLS.summary())"
      ],
      "metadata": {
        "id": "PK7xv_VOukQ7"
      },
      "execution_count": null,
      "outputs": []
    },
    {
      "cell_type": "code",
      "source": [
        "# Regress quarterly minimum returns against delinquencies\n",
        "model_OLS2 = sm.OLS(returns_q['Min Return'], returns_q['90-Day Mortgage Delinquency Rate']).fit()\n",
        "print(model_OLS2.summary())"
      ],
      "metadata": {
        "id": "oV9czLKV1TQ3"
      },
      "execution_count": null,
      "outputs": []
    },
    {
      "cell_type": "markdown",
      "source": [
        "### 1.2 Modern Portfolio Theory (MPT) "
      ],
      "metadata": {
        "id": "XMd6MV9VYeB2"
      }
    },
    {
      "cell_type": "markdown",
      "source": [
        "#### 1.2.1 Simple example"
      ],
      "metadata": {
        "id": "1vZyESm3gfSV"
      }
    },
    {
      "cell_type": "code",
      "source": [
        "df_port2 = pdr.get_data_yahoo(['AAPL', 'AMZN', 'GOOG', 'NFLX'], start=start, end=end)\n",
        "df_port2 = df_port2['Adj Close']\n",
        "df_port2.head(2)"
      ],
      "metadata": {
        "colab": {
          "base_uri": "https://localhost:8080/",
          "height": 161
        },
        "id": "iSIC4gDZ1qS7",
        "outputId": "1ef77f87-79de-4dfc-c58a-60fe13e528e9"
      },
      "execution_count": null,
      "outputs": [
        {
          "output_type": "stream",
          "name": "stdout",
          "text": [
            "[*********************100%***********************]  4 of 4 completed\n"
          ]
        },
        {
          "output_type": "execute_result",
          "data": {
            "text/plain": [
              "                AAPL   AMZN      GOOG      NFLX\n",
              "Date                                           \n",
              "2005-01-03  0.963385  2.226  5.048826  1.702857\n",
              "2005-01-04  0.973279  2.107  4.844342  1.665714"
            ],
            "text/html": [
              "\n",
              "  <div id=\"df-163905ae-13cd-48c4-ad86-e6f863ba502c\">\n",
              "    <div class=\"colab-df-container\">\n",
              "      <div>\n",
              "<style scoped>\n",
              "    .dataframe tbody tr th:only-of-type {\n",
              "        vertical-align: middle;\n",
              "    }\n",
              "\n",
              "    .dataframe tbody tr th {\n",
              "        vertical-align: top;\n",
              "    }\n",
              "\n",
              "    .dataframe thead th {\n",
              "        text-align: right;\n",
              "    }\n",
              "</style>\n",
              "<table border=\"1\" class=\"dataframe\">\n",
              "  <thead>\n",
              "    <tr style=\"text-align: right;\">\n",
              "      <th></th>\n",
              "      <th>AAPL</th>\n",
              "      <th>AMZN</th>\n",
              "      <th>GOOG</th>\n",
              "      <th>NFLX</th>\n",
              "    </tr>\n",
              "    <tr>\n",
              "      <th>Date</th>\n",
              "      <th></th>\n",
              "      <th></th>\n",
              "      <th></th>\n",
              "      <th></th>\n",
              "    </tr>\n",
              "  </thead>\n",
              "  <tbody>\n",
              "    <tr>\n",
              "      <th>2005-01-03</th>\n",
              "      <td>0.963385</td>\n",
              "      <td>2.226</td>\n",
              "      <td>5.048826</td>\n",
              "      <td>1.702857</td>\n",
              "    </tr>\n",
              "    <tr>\n",
              "      <th>2005-01-04</th>\n",
              "      <td>0.973279</td>\n",
              "      <td>2.107</td>\n",
              "      <td>4.844342</td>\n",
              "      <td>1.665714</td>\n",
              "    </tr>\n",
              "  </tbody>\n",
              "</table>\n",
              "</div>\n",
              "      <button class=\"colab-df-convert\" onclick=\"convertToInteractive('df-163905ae-13cd-48c4-ad86-e6f863ba502c')\"\n",
              "              title=\"Convert this dataframe to an interactive table.\"\n",
              "              style=\"display:none;\">\n",
              "        \n",
              "  <svg xmlns=\"http://www.w3.org/2000/svg\" height=\"24px\"viewBox=\"0 0 24 24\"\n",
              "       width=\"24px\">\n",
              "    <path d=\"M0 0h24v24H0V0z\" fill=\"none\"/>\n",
              "    <path d=\"M18.56 5.44l.94 2.06.94-2.06 2.06-.94-2.06-.94-.94-2.06-.94 2.06-2.06.94zm-11 1L8.5 8.5l.94-2.06 2.06-.94-2.06-.94L8.5 2.5l-.94 2.06-2.06.94zm10 10l.94 2.06.94-2.06 2.06-.94-2.06-.94-.94-2.06-.94 2.06-2.06.94z\"/><path d=\"M17.41 7.96l-1.37-1.37c-.4-.4-.92-.59-1.43-.59-.52 0-1.04.2-1.43.59L10.3 9.45l-7.72 7.72c-.78.78-.78 2.05 0 2.83L4 21.41c.39.39.9.59 1.41.59.51 0 1.02-.2 1.41-.59l7.78-7.78 2.81-2.81c.8-.78.8-2.07 0-2.86zM5.41 20L4 18.59l7.72-7.72 1.47 1.35L5.41 20z\"/>\n",
              "  </svg>\n",
              "      </button>\n",
              "      \n",
              "  <style>\n",
              "    .colab-df-container {\n",
              "      display:flex;\n",
              "      flex-wrap:wrap;\n",
              "      gap: 12px;\n",
              "    }\n",
              "\n",
              "    .colab-df-convert {\n",
              "      background-color: #E8F0FE;\n",
              "      border: none;\n",
              "      border-radius: 50%;\n",
              "      cursor: pointer;\n",
              "      display: none;\n",
              "      fill: #1967D2;\n",
              "      height: 32px;\n",
              "      padding: 0 0 0 0;\n",
              "      width: 32px;\n",
              "    }\n",
              "\n",
              "    .colab-df-convert:hover {\n",
              "      background-color: #E2EBFA;\n",
              "      box-shadow: 0px 1px 2px rgba(60, 64, 67, 0.3), 0px 1px 3px 1px rgba(60, 64, 67, 0.15);\n",
              "      fill: #174EA6;\n",
              "    }\n",
              "\n",
              "    [theme=dark] .colab-df-convert {\n",
              "      background-color: #3B4455;\n",
              "      fill: #D2E3FC;\n",
              "    }\n",
              "\n",
              "    [theme=dark] .colab-df-convert:hover {\n",
              "      background-color: #434B5C;\n",
              "      box-shadow: 0px 1px 3px 1px rgba(0, 0, 0, 0.15);\n",
              "      filter: drop-shadow(0px 1px 2px rgba(0, 0, 0, 0.3));\n",
              "      fill: #FFFFFF;\n",
              "    }\n",
              "  </style>\n",
              "\n",
              "      <script>\n",
              "        const buttonEl =\n",
              "          document.querySelector('#df-163905ae-13cd-48c4-ad86-e6f863ba502c button.colab-df-convert');\n",
              "        buttonEl.style.display =\n",
              "          google.colab.kernel.accessAllowed ? 'block' : 'none';\n",
              "\n",
              "        async function convertToInteractive(key) {\n",
              "          const element = document.querySelector('#df-163905ae-13cd-48c4-ad86-e6f863ba502c');\n",
              "          const dataTable =\n",
              "            await google.colab.kernel.invokeFunction('convertToInteractive',\n",
              "                                                     [key], {});\n",
              "          if (!dataTable) return;\n",
              "\n",
              "          const docLinkHtml = 'Like what you see? Visit the ' +\n",
              "            '<a target=\"_blank\" href=https://colab.research.google.com/notebooks/data_table.ipynb>data table notebook</a>'\n",
              "            + ' to learn more about interactive tables.';\n",
              "          element.innerHTML = '';\n",
              "          dataTable['output_type'] = 'display_data';\n",
              "          await google.colab.output.renderOutput(dataTable, element);\n",
              "          const docLink = document.createElement('div');\n",
              "          docLink.innerHTML = docLinkHtml;\n",
              "          element.appendChild(docLink);\n",
              "        }\n",
              "      </script>\n",
              "    </div>\n",
              "  </div>\n",
              "  "
            ]
          },
          "metadata": {},
          "execution_count": 54
        }
      ]
    },
    {
      "cell_type": "code",
      "source": [
        "# Computes the annualized average historical returns (expected return)\n",
        "exp_rtn = mean_historical_return(df_port2, frequency=252)\n",
        "exp_rtn"
      ],
      "metadata": {
        "colab": {
          "base_uri": "https://localhost:8080/"
        },
        "id": "9FoRBKOQY_uD",
        "outputId": "9adc7de9-34bc-4060-f0fc-0a2e1392815e"
      },
      "execution_count": null,
      "outputs": [
        {
          "output_type": "execute_result",
          "data": {
            "text/plain": [
              "AAPL    0.474456\n",
              "AMZN    0.265961\n",
              "GOOG    0.198296\n",
              "NFLX    0.573292\n",
              "dtype: float64"
            ]
          },
          "metadata": {},
          "execution_count": 37
        }
      ]
    },
    {
      "cell_type": "code",
      "source": [
        "# Derive efficient estimates of covariance matrix\n",
        "efficient_cov = CovarianceShrinkage(df_port2).ledoit_wolf() \n",
        "# CovarianceShrinkage(): improves sample covariance by shrinking extreme errors caused by sampling\n",
        "# ledoit_wolf(): popular method to compute estimates of covariance matrix\n",
        "efficient_cov"
      ],
      "metadata": {
        "colab": {
          "base_uri": "https://localhost:8080/",
          "height": 175
        },
        "id": "mmUL5KAEfsrI",
        "outputId": "a06d7f1b-53d2-45a6-f038-7bb45b828d98"
      },
      "execution_count": null,
      "outputs": [
        {
          "output_type": "execute_result",
          "data": {
            "text/plain": [
              "          AAPL      AMZN      GOOG      NFLX\n",
              "AAPL  0.163077  0.083445  0.073156  0.063058\n",
              "AMZN  0.083445  0.228379  0.076187  0.083230\n",
              "GOOG  0.073156  0.076187  0.128224  0.041846\n",
              "NFLX  0.063058  0.083230  0.041846  0.274708"
            ],
            "text/html": [
              "\n",
              "  <div id=\"df-f1cf4744-154c-4f5c-a646-f60f46d4cc65\">\n",
              "    <div class=\"colab-df-container\">\n",
              "      <div>\n",
              "<style scoped>\n",
              "    .dataframe tbody tr th:only-of-type {\n",
              "        vertical-align: middle;\n",
              "    }\n",
              "\n",
              "    .dataframe tbody tr th {\n",
              "        vertical-align: top;\n",
              "    }\n",
              "\n",
              "    .dataframe thead th {\n",
              "        text-align: right;\n",
              "    }\n",
              "</style>\n",
              "<table border=\"1\" class=\"dataframe\">\n",
              "  <thead>\n",
              "    <tr style=\"text-align: right;\">\n",
              "      <th></th>\n",
              "      <th>AAPL</th>\n",
              "      <th>AMZN</th>\n",
              "      <th>GOOG</th>\n",
              "      <th>NFLX</th>\n",
              "    </tr>\n",
              "  </thead>\n",
              "  <tbody>\n",
              "    <tr>\n",
              "      <th>AAPL</th>\n",
              "      <td>0.163077</td>\n",
              "      <td>0.083445</td>\n",
              "      <td>0.073156</td>\n",
              "      <td>0.063058</td>\n",
              "    </tr>\n",
              "    <tr>\n",
              "      <th>AMZN</th>\n",
              "      <td>0.083445</td>\n",
              "      <td>0.228379</td>\n",
              "      <td>0.076187</td>\n",
              "      <td>0.083230</td>\n",
              "    </tr>\n",
              "    <tr>\n",
              "      <th>GOOG</th>\n",
              "      <td>0.073156</td>\n",
              "      <td>0.076187</td>\n",
              "      <td>0.128224</td>\n",
              "      <td>0.041846</td>\n",
              "    </tr>\n",
              "    <tr>\n",
              "      <th>NFLX</th>\n",
              "      <td>0.063058</td>\n",
              "      <td>0.083230</td>\n",
              "      <td>0.041846</td>\n",
              "      <td>0.274708</td>\n",
              "    </tr>\n",
              "  </tbody>\n",
              "</table>\n",
              "</div>\n",
              "      <button class=\"colab-df-convert\" onclick=\"convertToInteractive('df-f1cf4744-154c-4f5c-a646-f60f46d4cc65')\"\n",
              "              title=\"Convert this dataframe to an interactive table.\"\n",
              "              style=\"display:none;\">\n",
              "        \n",
              "  <svg xmlns=\"http://www.w3.org/2000/svg\" height=\"24px\"viewBox=\"0 0 24 24\"\n",
              "       width=\"24px\">\n",
              "    <path d=\"M0 0h24v24H0V0z\" fill=\"none\"/>\n",
              "    <path d=\"M18.56 5.44l.94 2.06.94-2.06 2.06-.94-2.06-.94-.94-2.06-.94 2.06-2.06.94zm-11 1L8.5 8.5l.94-2.06 2.06-.94-2.06-.94L8.5 2.5l-.94 2.06-2.06.94zm10 10l.94 2.06.94-2.06 2.06-.94-2.06-.94-.94-2.06-.94 2.06-2.06.94z\"/><path d=\"M17.41 7.96l-1.37-1.37c-.4-.4-.92-.59-1.43-.59-.52 0-1.04.2-1.43.59L10.3 9.45l-7.72 7.72c-.78.78-.78 2.05 0 2.83L4 21.41c.39.39.9.59 1.41.59.51 0 1.02-.2 1.41-.59l7.78-7.78 2.81-2.81c.8-.78.8-2.07 0-2.86zM5.41 20L4 18.59l7.72-7.72 1.47 1.35L5.41 20z\"/>\n",
              "  </svg>\n",
              "      </button>\n",
              "      \n",
              "  <style>\n",
              "    .colab-df-container {\n",
              "      display:flex;\n",
              "      flex-wrap:wrap;\n",
              "      gap: 12px;\n",
              "    }\n",
              "\n",
              "    .colab-df-convert {\n",
              "      background-color: #E8F0FE;\n",
              "      border: none;\n",
              "      border-radius: 50%;\n",
              "      cursor: pointer;\n",
              "      display: none;\n",
              "      fill: #1967D2;\n",
              "      height: 32px;\n",
              "      padding: 0 0 0 0;\n",
              "      width: 32px;\n",
              "    }\n",
              "\n",
              "    .colab-df-convert:hover {\n",
              "      background-color: #E2EBFA;\n",
              "      box-shadow: 0px 1px 2px rgba(60, 64, 67, 0.3), 0px 1px 3px 1px rgba(60, 64, 67, 0.15);\n",
              "      fill: #174EA6;\n",
              "    }\n",
              "\n",
              "    [theme=dark] .colab-df-convert {\n",
              "      background-color: #3B4455;\n",
              "      fill: #D2E3FC;\n",
              "    }\n",
              "\n",
              "    [theme=dark] .colab-df-convert:hover {\n",
              "      background-color: #434B5C;\n",
              "      box-shadow: 0px 1px 3px 1px rgba(0, 0, 0, 0.15);\n",
              "      filter: drop-shadow(0px 1px 2px rgba(0, 0, 0, 0.3));\n",
              "      fill: #FFFFFF;\n",
              "    }\n",
              "  </style>\n",
              "\n",
              "      <script>\n",
              "        const buttonEl =\n",
              "          document.querySelector('#df-f1cf4744-154c-4f5c-a646-f60f46d4cc65 button.colab-df-convert');\n",
              "        buttonEl.style.display =\n",
              "          google.colab.kernel.accessAllowed ? 'block' : 'none';\n",
              "\n",
              "        async function convertToInteractive(key) {\n",
              "          const element = document.querySelector('#df-f1cf4744-154c-4f5c-a646-f60f46d4cc65');\n",
              "          const dataTable =\n",
              "            await google.colab.kernel.invokeFunction('convertToInteractive',\n",
              "                                                     [key], {});\n",
              "          if (!dataTable) return;\n",
              "\n",
              "          const docLinkHtml = 'Like what you see? Visit the ' +\n",
              "            '<a target=\"_blank\" href=https://colab.research.google.com/notebooks/data_table.ipynb>data table notebook</a>'\n",
              "            + ' to learn more about interactive tables.';\n",
              "          element.innerHTML = '';\n",
              "          dataTable['output_type'] = 'display_data';\n",
              "          await google.colab.output.renderOutput(dataTable, element);\n",
              "          const docLink = document.createElement('div');\n",
              "          docLink.innerHTML = docLinkHtml;\n",
              "          element.appendChild(docLink);\n",
              "        }\n",
              "      </script>\n",
              "    </div>\n",
              "  </div>\n",
              "  "
            ]
          },
          "metadata": {},
          "execution_count": 38
        }
      ]
    },
    {
      "cell_type": "code",
      "source": [
        "# Create the CLA object\n",
        "cla = CLA(exp_rtn, efficient_cov)\n",
        "min_variance = cla.min_volatility()\n",
        "rtn, vol, weights = cla.efficient_frontier()"
      ],
      "metadata": {
        "id": "veKvseXkgJ1-"
      },
      "execution_count": null,
      "outputs": []
    },
    {
      "cell_type": "code",
      "source": [
        "# Visualize the efficient frontier\n",
        "plt.scatter(vol, rtn)\n",
        "plt.xlabel('Standard Deviation')\n",
        "plt.ylabel('Expected (Mean Historical) Return')\n",
        "plt.title('Efficient Frontier')\n",
        "plt.text(vol[-1], rtn[-1], 'Minimum variance portfolio', color='r')\n",
        "plt.text(0.35, 0.45, 'Increasing risk appetite: move along the frontier', color='r')\n",
        "plt.show()"
      ],
      "metadata": {
        "colab": {
          "base_uri": "https://localhost:8080/",
          "height": 295
        },
        "id": "kXseBBU2iZwN",
        "outputId": "bd9f508a-4412-4a6b-a3ce-347a00a36214"
      },
      "execution_count": null,
      "outputs": [
        {
          "output_type": "display_data",
          "data": {
            "text/plain": [
              "<Figure size 432x288 with 1 Axes>"
            ],
            "image/png": "[encoded data removed]"
          },
          "metadata": {
            "needs_background": "light"
          }
        }
      ]
    },
    {
      "cell_type": "markdown",
      "source": [
        "#### 1.2.2 Advanced example"
      ],
      "metadata": {
        "id": "uPV6DMT0gikO"
      }
    },
    {
      "cell_type": "code",
      "source": [
        "# Create a dictionary of time periods\n",
        "epochs = {'before_crisis': {'start': '2005-01-01', 'end': '2006-12-31'},\n",
        "          'during_crisis': {'start': '2007-01-01', 'end': '2008-12-31'},\n",
        "          'after_crisis': {'start': '2009-01-01', 'end': '2010-12-31'}}\n",
        "\n",
        "# Compute the efficient covariance for each epoch\n",
        "efficient_cov = {}\n",
        "returns = {}\n",
        "\n",
        "for x in epochs.keys():\n",
        "  sub_price = df_port2.loc[epochs[x]['start']:epochs[x]['end']]\n",
        "  returns[x] = mean_historical_return(sub_price, frequency=252)\n",
        "  efficient_cov[x] = CovarianceShrinkage(sub_price).ledoit_wolf()\n",
        "\n",
        "print(returns['during_crisis'])\n",
        "efficient_cov['during_crisis']"
      ],
      "metadata": {
        "colab": {
          "base_uri": "https://localhost:8080/",
          "height": 262
        },
        "id": "K5jcsw6lpOt1",
        "outputId": "098fbcb3-8f75-4ac0-b7f2-99e7e9b303c1"
      },
      "execution_count": null,
      "outputs": [
        {
          "output_type": "stream",
          "name": "stdout",
          "text": [
            "AAPL    0.009224\n",
            "AMZN    0.151437\n",
            "GOOG   -0.189197\n",
            "NFLX    0.059963\n",
            "dtype: float64\n"
          ]
        },
        {
          "output_type": "execute_result",
          "data": {
            "text/plain": [
              "          AAPL      AMZN      GOOG      NFLX\n",
              "AAPL  0.244550  0.157735  0.123776  0.124143\n",
              "AMZN  0.157735  0.349792  0.135435  0.124345\n",
              "GOOG  0.123776  0.135435  0.187649  0.071410\n",
              "NFLX  0.124143  0.124345  0.071410  0.331830"
            ],
            "text/html": [
              "\n",
              "  <div id=\"df-454314e6-26e3-427e-999f-e4f080657ed9\">\n",
              "    <div class=\"colab-df-container\">\n",
              "      <div>\n",
              "<style scoped>\n",
              "    .dataframe tbody tr th:only-of-type {\n",
              "        vertical-align: middle;\n",
              "    }\n",
              "\n",
              "    .dataframe tbody tr th {\n",
              "        vertical-align: top;\n",
              "    }\n",
              "\n",
              "    .dataframe thead th {\n",
              "        text-align: right;\n",
              "    }\n",
              "</style>\n",
              "<table border=\"1\" class=\"dataframe\">\n",
              "  <thead>\n",
              "    <tr style=\"text-align: right;\">\n",
              "      <th></th>\n",
              "      <th>AAPL</th>\n",
              "      <th>AMZN</th>\n",
              "      <th>GOOG</th>\n",
              "      <th>NFLX</th>\n",
              "    </tr>\n",
              "  </thead>\n",
              "  <tbody>\n",
              "    <tr>\n",
              "      <th>AAPL</th>\n",
              "      <td>0.244550</td>\n",
              "      <td>0.157735</td>\n",
              "      <td>0.123776</td>\n",
              "      <td>0.124143</td>\n",
              "    </tr>\n",
              "    <tr>\n",
              "      <th>AMZN</th>\n",
              "      <td>0.157735</td>\n",
              "      <td>0.349792</td>\n",
              "      <td>0.135435</td>\n",
              "      <td>0.124345</td>\n",
              "    </tr>\n",
              "    <tr>\n",
              "      <th>GOOG</th>\n",
              "      <td>0.123776</td>\n",
              "      <td>0.135435</td>\n",
              "      <td>0.187649</td>\n",
              "      <td>0.071410</td>\n",
              "    </tr>\n",
              "    <tr>\n",
              "      <th>NFLX</th>\n",
              "      <td>0.124143</td>\n",
              "      <td>0.124345</td>\n",
              "      <td>0.071410</td>\n",
              "      <td>0.331830</td>\n",
              "    </tr>\n",
              "  </tbody>\n",
              "</table>\n",
              "</div>\n",
              "      <button class=\"colab-df-convert\" onclick=\"convertToInteractive('df-454314e6-26e3-427e-999f-e4f080657ed9')\"\n",
              "              title=\"Convert this dataframe to an interactive table.\"\n",
              "              style=\"display:none;\">\n",
              "        \n",
              "  <svg xmlns=\"http://www.w3.org/2000/svg\" height=\"24px\"viewBox=\"0 0 24 24\"\n",
              "       width=\"24px\">\n",
              "    <path d=\"M0 0h24v24H0V0z\" fill=\"none\"/>\n",
              "    <path d=\"M18.56 5.44l.94 2.06.94-2.06 2.06-.94-2.06-.94-.94-2.06-.94 2.06-2.06.94zm-11 1L8.5 8.5l.94-2.06 2.06-.94-2.06-.94L8.5 2.5l-.94 2.06-2.06.94zm10 10l.94 2.06.94-2.06 2.06-.94-2.06-.94-.94-2.06-.94 2.06-2.06.94z\"/><path d=\"M17.41 7.96l-1.37-1.37c-.4-.4-.92-.59-1.43-.59-.52 0-1.04.2-1.43.59L10.3 9.45l-7.72 7.72c-.78.78-.78 2.05 0 2.83L4 21.41c.39.39.9.59 1.41.59.51 0 1.02-.2 1.41-.59l7.78-7.78 2.81-2.81c.8-.78.8-2.07 0-2.86zM5.41 20L4 18.59l7.72-7.72 1.47 1.35L5.41 20z\"/>\n",
              "  </svg>\n",
              "      </button>\n",
              "      \n",
              "  <style>\n",
              "    .colab-df-container {\n",
              "      display:flex;\n",
              "      flex-wrap:wrap;\n",
              "      gap: 12px;\n",
              "    }\n",
              "\n",
              "    .colab-df-convert {\n",
              "      background-color: #E8F0FE;\n",
              "      border: none;\n",
              "      border-radius: 50%;\n",
              "      cursor: pointer;\n",
              "      display: none;\n",
              "      fill: #1967D2;\n",
              "      height: 32px;\n",
              "      padding: 0 0 0 0;\n",
              "      width: 32px;\n",
              "    }\n",
              "\n",
              "    .colab-df-convert:hover {\n",
              "      background-color: #E2EBFA;\n",
              "      box-shadow: 0px 1px 2px rgba(60, 64, 67, 0.3), 0px 1px 3px 1px rgba(60, 64, 67, 0.15);\n",
              "      fill: #174EA6;\n",
              "    }\n",
              "\n",
              "    [theme=dark] .colab-df-convert {\n",
              "      background-color: #3B4455;\n",
              "      fill: #D2E3FC;\n",
              "    }\n",
              "\n",
              "    [theme=dark] .colab-df-convert:hover {\n",
              "      background-color: #434B5C;\n",
              "      box-shadow: 0px 1px 3px 1px rgba(0, 0, 0, 0.15);\n",
              "      filter: drop-shadow(0px 1px 2px rgba(0, 0, 0, 0.3));\n",
              "      fill: #FFFFFF;\n",
              "    }\n",
              "  </style>\n",
              "\n",
              "      <script>\n",
              "        const buttonEl =\n",
              "          document.querySelector('#df-454314e6-26e3-427e-999f-e4f080657ed9 button.colab-df-convert');\n",
              "        buttonEl.style.display =\n",
              "          google.colab.kernel.accessAllowed ? 'block' : 'none';\n",
              "\n",
              "        async function convertToInteractive(key) {\n",
              "          const element = document.querySelector('#df-454314e6-26e3-427e-999f-e4f080657ed9');\n",
              "          const dataTable =\n",
              "            await google.colab.kernel.invokeFunction('convertToInteractive',\n",
              "                                                     [key], {});\n",
              "          if (!dataTable) return;\n",
              "\n",
              "          const docLinkHtml = 'Like what you see? Visit the ' +\n",
              "            '<a target=\"_blank\" href=https://colab.research.google.com/notebooks/data_table.ipynb>data table notebook</a>'\n",
              "            + ' to learn more about interactive tables.';\n",
              "          element.innerHTML = '';\n",
              "          dataTable['output_type'] = 'display_data';\n",
              "          await google.colab.output.renderOutput(dataTable, element);\n",
              "          const docLink = document.createElement('div');\n",
              "          docLink.innerHTML = docLinkHtml;\n",
              "          element.appendChild(docLink);\n",
              "        }\n",
              "      </script>\n",
              "    </div>\n",
              "  </div>\n",
              "  "
            ]
          },
          "metadata": {},
          "execution_count": 58
        }
      ]
    },
    {
      "cell_type": "code",
      "source": [
        "efficient_portfolio_before = CLA(returns['before_crisis'], efficient_cov['before_crisis'])\n",
        "(rtn_before, vol_before, weights_before) = efficient_portfolio_before.efficient_frontier()\n",
        "\n",
        "efficient_portfolio_during = CLA(returns['during_crisis'], efficient_cov['during_crisis'])\n",
        "(rtn_during, vol_during, weights_during) = efficient_portfolio_during.efficient_frontier()\n",
        "\n",
        "efficient_portfolio_after = CLA(returns['after_crisis'], efficient_cov['after_crisis'])\n",
        "(rtn_after, vol_after, weights_after) = efficient_portfolio_after.efficient_frontier()\n",
        "print(f\"Minimum variance:\\nBefore crisis: {efficient_portfolio_before.min_volatility()}\\nDuring crisis: {efficient_portfolio_during.min_volatility()}\\nAfter crisis: {efficient_portfolio_after.min_volatility()}\")"
      ],
      "metadata": {
        "colab": {
          "base_uri": "https://localhost:8080/"
        },
        "id": "nndmvriGgAzl",
        "outputId": "e1276ef6-1fa9-4e09-d9d0-b37c0c5ee3d3"
      },
      "execution_count": null,
      "outputs": [
        {
          "output_type": "stream",
          "name": "stdout",
          "text": [
            "Minimum variance:\n",
            "Before crisis: OrderedDict([('AAPL', 0.23622359508261312), ('AMZN', 0.24957523254712735), ('GOOG', 0.3319824693326734), ('NFLX', 0.18221870303758614)])\n",
            "During crisis: OrderedDict([('AAPL', 0.17166716487437697), ('AMZN', 0.04451325113781687), ('GOOG', 0.5407853259322538), ('NFLX', 0.2430342580555523)])\n",
            "After crisis: OrderedDict([('AAPL', 0.36012389130503736), ('AMZN', 0.05225967010630641), ('GOOG', 0.45912424952398745), ('NFLX', 0.12849218906466883)])\n"
          ]
        }
      ]
    },
    {
      "cell_type": "code",
      "source": [
        "# Visualize the efficient frontier\n",
        "plt.scatter(vol_before, rtn_before, c='b', marker='.', label='Before crisis')\n",
        "plt.scatter(vol_during, rtn_during, c='g', marker='.', label='During crisis')\n",
        "plt.scatter(vol_after, rtn_after, c='r', marker='.', label='After crisis')\n",
        "plt.title('Efficient Frontier before, during, and after financial crisis (2005-2010)')\n",
        "plt.xlabel('Standard Deviation')\n",
        "plt.ylabel('Expected (Mean Historical) Return')\n",
        "plt.legend()\n",
        "plt.show()"
      ],
      "metadata": {
        "colab": {
          "base_uri": "https://localhost:8080/",
          "height": 295
        },
        "id": "ekF7BqOTi1Ac",
        "outputId": "49f56532-0750-4d37-8ea8-04522a13c33c"
      },
      "execution_count": null,
      "outputs": [
        {
          "output_type": "display_data",
          "data": {
            "text/plain": [
              "<Figure size 432x288 with 1 Axes>"
            ],
            "image/png": "[encoded data removed]"
          },
          "metadata": {
            "needs_background": "light"
          }
        }
      ]
    },
    {
      "cell_type": "code",
      "source": [],
      "metadata": {
        "id": "JEReaX6djUWY"
      },
      "execution_count": null,
      "outputs": []
    }
  ]
}
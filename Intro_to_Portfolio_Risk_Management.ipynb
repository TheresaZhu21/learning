{
  "nbformat": 4,
  "nbformat_minor": 0,
  "metadata": {
    "colab": {
      "provenance": [],
      "authorship_tag": "ABX9TyO48RKdXvP4wHagh/cd0DAO",
      "include_colab_link": true
    },
    "kernelspec": {
      "name": "python3",
      "display_name": "Python 3"
    },
    "language_info": {
      "name": "python"
    }
  },
  "cells": [
    {
      "cell_type": "markdown",
      "metadata": {
        "id": "view-in-github",
        "colab_type": "text"
      },
      "source": [
        "<a href=\"https://colab.research.google.com/github/TheresaZhu21/learning/blob/main/Intro_to_Portfolio_Risk_Management.ipynb\" target=\"_parent\"><img src=\"https://colab.research.google.com/assets/colab-badge.svg\" alt=\"Open In Colab\"/></a>"
      ]
    },
    {
      "cell_type": "markdown",
      "source": [
        "# Introduction to Portfolio Risk Management"
      ],
      "metadata": {
        "id": "kNQZJuAhMDu3"
      }
    },
    {
      "cell_type": "markdown",
      "source": [
        "## 1. Univariate returns"
      ],
      "metadata": {
        "id": "IbICP6u38n_Y"
      }
    },
    {
      "cell_type": "code",
      "execution_count": 1,
      "metadata": {
        "id": "EOkn-Fop8hsb"
      },
      "outputs": [],
      "source": [
        "import pandas as pd\n",
        "import numpy as np\n",
        "import matplotlib.pyplot as plt\n",
        "import seaborn as sns\n",
        "from scipy.stats import skew\n",
        "from scipy.stats import kurtosis\n",
        "from scipy.stats import norm\n",
        "from scipy import stats"
      ]
    },
    {
      "cell_type": "code",
      "source": [
        "# Returns\n",
        "df = pd.read_csv('https://assets.datacamp.com/production/repositories/1546/datasets/0f1a004a8aa693163fa55f277513309f710b700d/MSFTPrices.csv', \n",
        "                 parse_dates=['Date'])\n",
        "df = df.sort_values(by='Date')\n",
        "df.set_index('Date', inplace=True)\n",
        "df['Return'] = df['Adjusted'].pct_change()\n",
        "df['Return'].plot() # plot returns over time\n",
        "plt.show()"
      ],
      "metadata": {
        "id": "wqclLjZ98xNE",
        "colab": {
          "base_uri": "https://localhost:8080/",
          "height": 269
        },
        "outputId": "f0ea06b8-256d-4eb1-90c5-5cc0cf78d851"
      },
      "execution_count": 2,
      "outputs": [
        {
          "output_type": "display_data",
          "data": {
            "text/plain": [
              "<Figure size 432x288 with 1 Axes>"
            ],
            "image/png": "[encoded data removed]"
          },
          "metadata": {
            "needs_background": "light"
          }
        }
      ]
    },
    {
      "cell_type": "code",
      "source": [
        "# Visualize return distributions\n",
        "plt.hist(df['Return'].dropna(), bins=75, density=False) # density=True: probability density plot\n",
        "plt.show()"
      ],
      "metadata": {
        "id": "kaGxgjTn9OA8",
        "colab": {
          "base_uri": "https://localhost:8080/",
          "height": 265
        },
        "outputId": "54d82fe4-ab19-413a-a04e-e2ce8f9de779"
      },
      "execution_count": 3,
      "outputs": [
        {
          "output_type": "display_data",
          "data": {
            "text/plain": [
              "<Figure size 432x288 with 1 Axes>"
            ],
            "image/png": "[encoded data removed]"
          },
          "metadata": {
            "needs_background": "light"
          }
        }
      ]
    },
    {
      "cell_type": "code",
      "source": [
        "# Average annualized return\n",
        "mean_rtn_daily = np.mean(df['Return'])\n",
        "annualized_rtn = ((1+mean_rtn_daily)**252)-1\n",
        "annualized_rtn"
      ],
      "metadata": {
        "id": "bTrLlANWEYSI",
        "colab": {
          "base_uri": "https://localhost:8080/"
        },
        "outputId": "78df85b6-533f-4404-8909-88aa3e9fbc70"
      },
      "execution_count": 4,
      "outputs": [
        {
          "output_type": "execute_result",
          "data": {
            "text/plain": [
              "0.09985839482852632"
            ]
          },
          "metadata": {},
          "execution_count": 4
        }
      ]
    },
    {
      "cell_type": "code",
      "source": [
        "# Volatility and variance\n",
        "sigma = np.std(df['Return'])\n",
        "var = sigma**2\n",
        "sigma_annualized = sigma*np.sqrt(252)\n",
        "var_annualized = sigma_annualized**2\n",
        "print(f\"\"\"vol:{sigma}\\nvar:{var}\\nannualized vol: {sigma_annualized}\\nannualized variance: {var_annualized}\"\"\")"
      ],
      "metadata": {
        "id": "X395dId2d4wX",
        "colab": {
          "base_uri": "https://localhost:8080/"
        },
        "outputId": "11cf6944-a146-4864-e5e3-53b85c3d9cc6"
      },
      "execution_count": 5,
      "outputs": [
        {
          "output_type": "stream",
          "name": "stdout",
          "text": [
            "vol:0.019341100408708317\n",
            "var:0.00037407816501973704\n",
            "annualized vol: 0.3070304505826315\n",
            "annualized variance: 0.09426769758497373\n"
          ]
        }
      ]
    },
    {
      "cell_type": "code",
      "source": [
        "# Skewness\n",
        "skew(df['Return'].dropna())"
      ],
      "metadata": {
        "id": "akeNUnL_RopQ",
        "colab": {
          "base_uri": "https://localhost:8080/"
        },
        "outputId": "5a02c911-09ee-405c-84d6-f2d960211377"
      },
      "execution_count": 6,
      "outputs": [
        {
          "output_type": "execute_result",
          "data": {
            "text/plain": [
              "0.21935459193067805"
            ]
          },
          "metadata": {},
          "execution_count": 6
        }
      ]
    },
    {
      "cell_type": "code",
      "source": [
        "# Kurtosis\n",
        "excess_kurtosis = kurtosis(df['Return'].dropna()) # the kurtosis function actually returns excess kutosis\n",
        "kurtosis = excess_kurtosis+3\n",
        "print(f\"Fourth moment of the returns distribution: {kurtosis}\")"
      ],
      "metadata": {
        "id": "dnVRCU2cXOFF",
        "colab": {
          "base_uri": "https://localhost:8080/"
        },
        "outputId": "5cab84b9-f247-419b-ff6e-f286c21c2840"
      },
      "execution_count": 7,
      "outputs": [
        {
          "output_type": "stream",
          "name": "stdout",
          "text": [
            "Fourth moment of the returns distribution: 13.314572618025519\n"
          ]
        }
      ]
    },
    {
      "cell_type": "code",
      "source": [
        "# Statistical test for normality\n",
        "p_value = stats.shapiro(df['Return'].dropna())[1]\n",
        "\n",
        "if p_value<=0.05:\n",
        "  print(\"Normality rejected\")\n",
        "else:\n",
        "  print(\"Normality accepted\")"
      ],
      "metadata": {
        "id": "jzcgj8z_ZSmz",
        "colab": {
          "base_uri": "https://localhost:8080/"
        },
        "outputId": "f1447f73-0a9d-4d8b-83db-be444af89652"
      },
      "execution_count": 8,
      "outputs": [
        {
          "output_type": "stream",
          "name": "stdout",
          "text": [
            "Normality rejected\n"
          ]
        }
      ]
    },
    {
      "cell_type": "markdown",
      "source": [
        "## 2. Portfolio composition and backtesting"
      ],
      "metadata": {
        "id": "HMI5pdCAMHbE"
      }
    },
    {
      "cell_type": "markdown",
      "source": [
        "Portfolio return:\\\n",
        "$R_p = R_{a_1}w_{a_1}+R_{a2}w_{a_2}+...+R_{a_n}w_{a_n}$\n",
        ">$R_{a_n}$: return for asset n\\\n",
        ">$w_{a_n}$: weight for asset n"
      ],
      "metadata": {
        "id": "AAa0x4h0Mbu7"
      }
    },
    {
      "cell_type": "code",
      "source": [
        "df_port = pd.read_csv('https://assets.datacamp.com/production/repositories/1546/datasets/fb7165b7270a3721f69abf9ff09b85938d9d1068/Big9Returns2017.csv',\n",
        "                            parse_dates=['Date'])\n",
        "df_port = df_port.sort_values(by=['Date'])\n",
        "df_port.set_index('Date', inplace=True)\n",
        "df_port.head(2)"
      ],
      "metadata": {
        "id": "UKA83yKPbJkz",
        "colab": {
          "base_uri": "https://localhost:8080/",
          "height": 143
        },
        "outputId": "7f0cc055-b57a-4c5b-b775-32e4f12fc84b"
      },
      "execution_count": 9,
      "outputs": [
        {
          "output_type": "execute_result",
          "data": {
            "text/plain": [
              "                AAPL      MSFT       XOM       JNJ       JPM      AMZN  \\\n",
              "Date                                                                     \n",
              "2017-01-03  0.002849  0.007081  0.006980  0.005468  0.010894  0.005068   \n",
              "2017-01-04 -0.001119 -0.004474 -0.011002 -0.001640  0.001844  0.004657   \n",
              "\n",
              "                  GE        FB         T  \n",
              "Date                                      \n",
              "2017-01-03  0.002848  0.015732  0.011521  \n",
              "2017-01-04  0.000316  0.015660 -0.005811  "
            ],
            "text/html": [
              "\n",
              "  <div id=\"df-55856136-f071-4057-94f3-112699e9a998\">\n",
              "    <div class=\"colab-df-container\">\n",
              "      <div>\n",
              "<style scoped>\n",
              "    .dataframe tbody tr th:only-of-type {\n",
              "        vertical-align: middle;\n",
              "    }\n",
              "\n",
              "    .dataframe tbody tr th {\n",
              "        vertical-align: top;\n",
              "    }\n",
              "\n",
              "    .dataframe thead th {\n",
              "        text-align: right;\n",
              "    }\n",
              "</style>\n",
              "<table border=\"1\" class=\"dataframe\">\n",
              "  <thead>\n",
              "    <tr style=\"text-align: right;\">\n",
              "      <th></th>\n",
              "      <th>AAPL</th>\n",
              "      <th>MSFT</th>\n",
              "      <th>XOM</th>\n",
              "      <th>JNJ</th>\n",
              "      <th>JPM</th>\n",
              "      <th>AMZN</th>\n",
              "      <th>GE</th>\n",
              "      <th>FB</th>\n",
              "      <th>T</th>\n",
              "    </tr>\n",
              "    <tr>\n",
              "      <th>Date</th>\n",
              "      <th></th>\n",
              "      <th></th>\n",
              "      <th></th>\n",
              "      <th></th>\n",
              "      <th></th>\n",
              "      <th></th>\n",
              "      <th></th>\n",
              "      <th></th>\n",
              "      <th></th>\n",
              "    </tr>\n",
              "  </thead>\n",
              "  <tbody>\n",
              "    <tr>\n",
              "      <th>2017-01-03</th>\n",
              "      <td>0.002849</td>\n",
              "      <td>0.007081</td>\n",
              "      <td>0.006980</td>\n",
              "      <td>0.005468</td>\n",
              "      <td>0.010894</td>\n",
              "      <td>0.005068</td>\n",
              "      <td>0.002848</td>\n",
              "      <td>0.015732</td>\n",
              "      <td>0.011521</td>\n",
              "    </tr>\n",
              "    <tr>\n",
              "      <th>2017-01-04</th>\n",
              "      <td>-0.001119</td>\n",
              "      <td>-0.004474</td>\n",
              "      <td>-0.011002</td>\n",
              "      <td>-0.001640</td>\n",
              "      <td>0.001844</td>\n",
              "      <td>0.004657</td>\n",
              "      <td>0.000316</td>\n",
              "      <td>0.015660</td>\n",
              "      <td>-0.005811</td>\n",
              "    </tr>\n",
              "  </tbody>\n",
              "</table>\n",
              "</div>\n",
              "      <button class=\"colab-df-convert\" onclick=\"convertToInteractive('df-55856136-f071-4057-94f3-112699e9a998')\"\n",
              "              title=\"Convert this dataframe to an interactive table.\"\n",
              "              style=\"display:none;\">\n",
              "        \n",
              "  <svg xmlns=\"http://www.w3.org/2000/svg\" height=\"24px\"viewBox=\"0 0 24 24\"\n",
              "       width=\"24px\">\n",
              "    <path d=\"M0 0h24v24H0V0z\" fill=\"none\"/>\n",
              "    <path d=\"M18.56 5.44l.94 2.06.94-2.06 2.06-.94-2.06-.94-.94-2.06-.94 2.06-2.06.94zm-11 1L8.5 8.5l.94-2.06 2.06-.94-2.06-.94L8.5 2.5l-.94 2.06-2.06.94zm10 10l.94 2.06.94-2.06 2.06-.94-2.06-.94-.94-2.06-.94 2.06-2.06.94z\"/><path d=\"M17.41 7.96l-1.37-1.37c-.4-.4-.92-.59-1.43-.59-.52 0-1.04.2-1.43.59L10.3 9.45l-7.72 7.72c-.78.78-.78 2.05 0 2.83L4 21.41c.39.39.9.59 1.41.59.51 0 1.02-.2 1.41-.59l7.78-7.78 2.81-2.81c.8-.78.8-2.07 0-2.86zM5.41 20L4 18.59l7.72-7.72 1.47 1.35L5.41 20z\"/>\n",
              "  </svg>\n",
              "      </button>\n",
              "      \n",
              "  <style>\n",
              "    .colab-df-container {\n",
              "      display:flex;\n",
              "      flex-wrap:wrap;\n",
              "      gap: 12px;\n",
              "    }\n",
              "\n",
              "    .colab-df-convert {\n",
              "      background-color: #E8F0FE;\n",
              "      border: none;\n",
              "      border-radius: 50%;\n",
              "      cursor: pointer;\n",
              "      display: none;\n",
              "      fill: #1967D2;\n",
              "      height: 32px;\n",
              "      padding: 0 0 0 0;\n",
              "      width: 32px;\n",
              "    }\n",
              "\n",
              "    .colab-df-convert:hover {\n",
              "      background-color: #E2EBFA;\n",
              "      box-shadow: 0px 1px 2px rgba(60, 64, 67, 0.3), 0px 1px 3px 1px rgba(60, 64, 67, 0.15);\n",
              "      fill: #174EA6;\n",
              "    }\n",
              "\n",
              "    [theme=dark] .colab-df-convert {\n",
              "      background-color: #3B4455;\n",
              "      fill: #D2E3FC;\n",
              "    }\n",
              "\n",
              "    [theme=dark] .colab-df-convert:hover {\n",
              "      background-color: #434B5C;\n",
              "      box-shadow: 0px 1px 3px 1px rgba(0, 0, 0, 0.15);\n",
              "      filter: drop-shadow(0px 1px 2px rgba(0, 0, 0, 0.3));\n",
              "      fill: #FFFFFF;\n",
              "    }\n",
              "  </style>\n",
              "\n",
              "      <script>\n",
              "        const buttonEl =\n",
              "          document.querySelector('#df-55856136-f071-4057-94f3-112699e9a998 button.colab-df-convert');\n",
              "        buttonEl.style.display =\n",
              "          google.colab.kernel.accessAllowed ? 'block' : 'none';\n",
              "\n",
              "        async function convertToInteractive(key) {\n",
              "          const element = document.querySelector('#df-55856136-f071-4057-94f3-112699e9a998');\n",
              "          const dataTable =\n",
              "            await google.colab.kernel.invokeFunction('convertToInteractive',\n",
              "                                                     [key], {});\n",
              "          if (!dataTable) return;\n",
              "\n",
              "          const docLinkHtml = 'Like what you see? Visit the ' +\n",
              "            '<a target=\"_blank\" href=https://colab.research.google.com/notebooks/data_table.ipynb>data table notebook</a>'\n",
              "            + ' to learn more about interactive tables.';\n",
              "          element.innerHTML = '';\n",
              "          dataTable['output_type'] = 'display_data';\n",
              "          await google.colab.output.renderOutput(dataTable, element);\n",
              "          const docLink = document.createElement('div');\n",
              "          docLink.innerHTML = docLinkHtml;\n",
              "          element.appendChild(docLink);\n",
              "        }\n",
              "      </script>\n",
              "    </div>\n",
              "  </div>\n",
              "  "
            ]
          },
          "metadata": {},
          "execution_count": 9
        }
      ]
    },
    {
      "cell_type": "code",
      "source": [
        "# Returns for assigned weighted portfolio\n",
        "port_weights = np.array([0.20, 0.20, 0.05, 0.05, 0.20, 0.20, 0.02, 0.05, 0.03])\n",
        "df_port['port_rtn'] = df_port.mul(port_weights, axis=1).sum(axis=1) # multiply an array and sum by days"
      ],
      "metadata": {
        "id": "ZaVb_tXSOV-1"
      },
      "execution_count": 10,
      "outputs": []
    },
    {
      "cell_type": "code",
      "source": [
        "# Returns for equally weighted portfolio\n",
        "n_ticker = 5\n",
        "port_weights_ew = np.repeat(1/n_ticker, n_ticker)\n",
        "df_port['port_rtn_ew'] = df_port.iloc[:,:n_ticker].mul(port_weights_ew, axis=1).sum(axis=1)"
      ],
      "metadata": {
        "id": "r74hHAYYOvAW"
      },
      "execution_count": 11,
      "outputs": []
    },
    {
      "cell_type": "markdown",
      "source": [
        "Market-cap weighted portfolios:\\\n",
        "$w_{mcap_n}=\\frac{mcap_n}{\\sum_{i=1}^{n}mcap_i}$"
      ],
      "metadata": {
        "id": "MrJtbQ6UbRr4"
      }
    },
    {
      "cell_type": "code",
      "source": [
        "# Returns for market-cap weighted portfolio\n",
        "mkt_cap = np.array([601.51, 469.25, 349.5, 310.48, 299.77])\n",
        "mcap_weights = mkt_cap/sum(mkt_cap)\n",
        "df_port['port_rtn_mcap'] = df_port.iloc[:,:n_ticker].mul(mcap_weights,axis=1).sum(axis=1)\n",
        "df_port.head(2)"
      ],
      "metadata": {
        "id": "z48P0H0OcsuL",
        "colab": {
          "base_uri": "https://localhost:8080/",
          "height": 242
        },
        "outputId": "fb6c79e5-7334-4f0c-a04f-55c4190915aa"
      },
      "execution_count": 12,
      "outputs": [
        {
          "output_type": "execute_result",
          "data": {
            "text/plain": [
              "                AAPL      MSFT       XOM       JNJ       JPM      AMZN  \\\n",
              "Date                                                                     \n",
              "2017-01-03  0.002849  0.007081  0.006980  0.005468  0.010894  0.005068   \n",
              "2017-01-04 -0.001119 -0.004474 -0.011002 -0.001640  0.001844  0.004657   \n",
              "\n",
              "                  GE        FB         T  port_rtn  port_rtn_ew  port_rtn_mcap  \n",
              "Date                                                                            \n",
              "2017-01-03  0.002848  0.015732  0.011521  0.006990     0.006654       0.006126  \n",
              "2017-01-04  0.000316  0.015660 -0.005811  0.000164    -0.003278      -0.003238  "
            ],
            "text/html": [
              "\n",
              "  <div id=\"df-294986ee-6b71-4ef4-83f9-5ac7a8164645\">\n",
              "    <div class=\"colab-df-container\">\n",
              "      <div>\n",
              "<style scoped>\n",
              "    .dataframe tbody tr th:only-of-type {\n",
              "        vertical-align: middle;\n",
              "    }\n",
              "\n",
              "    .dataframe tbody tr th {\n",
              "        vertical-align: top;\n",
              "    }\n",
              "\n",
              "    .dataframe thead th {\n",
              "        text-align: right;\n",
              "    }\n",
              "</style>\n",
              "<table border=\"1\" class=\"dataframe\">\n",
              "  <thead>\n",
              "    <tr style=\"text-align: right;\">\n",
              "      <th></th>\n",
              "      <th>AAPL</th>\n",
              "      <th>MSFT</th>\n",
              "      <th>XOM</th>\n",
              "      <th>JNJ</th>\n",
              "      <th>JPM</th>\n",
              "      <th>AMZN</th>\n",
              "      <th>GE</th>\n",
              "      <th>FB</th>\n",
              "      <th>T</th>\n",
              "      <th>port_rtn</th>\n",
              "      <th>port_rtn_ew</th>\n",
              "      <th>port_rtn_mcap</th>\n",
              "    </tr>\n",
              "    <tr>\n",
              "      <th>Date</th>\n",
              "      <th></th>\n",
              "      <th></th>\n",
              "      <th></th>\n",
              "      <th></th>\n",
              "      <th></th>\n",
              "      <th></th>\n",
              "      <th></th>\n",
              "      <th></th>\n",
              "      <th></th>\n",
              "      <th></th>\n",
              "      <th></th>\n",
              "      <th></th>\n",
              "    </tr>\n",
              "  </thead>\n",
              "  <tbody>\n",
              "    <tr>\n",
              "      <th>2017-01-03</th>\n",
              "      <td>0.002849</td>\n",
              "      <td>0.007081</td>\n",
              "      <td>0.006980</td>\n",
              "      <td>0.005468</td>\n",
              "      <td>0.010894</td>\n",
              "      <td>0.005068</td>\n",
              "      <td>0.002848</td>\n",
              "      <td>0.015732</td>\n",
              "      <td>0.011521</td>\n",
              "      <td>0.006990</td>\n",
              "      <td>0.006654</td>\n",
              "      <td>0.006126</td>\n",
              "    </tr>\n",
              "    <tr>\n",
              "      <th>2017-01-04</th>\n",
              "      <td>-0.001119</td>\n",
              "      <td>-0.004474</td>\n",
              "      <td>-0.011002</td>\n",
              "      <td>-0.001640</td>\n",
              "      <td>0.001844</td>\n",
              "      <td>0.004657</td>\n",
              "      <td>0.000316</td>\n",
              "      <td>0.015660</td>\n",
              "      <td>-0.005811</td>\n",
              "      <td>0.000164</td>\n",
              "      <td>-0.003278</td>\n",
              "      <td>-0.003238</td>\n",
              "    </tr>\n",
              "  </tbody>\n",
              "</table>\n",
              "</div>\n",
              "      <button class=\"colab-df-convert\" onclick=\"convertToInteractive('df-294986ee-6b71-4ef4-83f9-5ac7a8164645')\"\n",
              "              title=\"Convert this dataframe to an interactive table.\"\n",
              "              style=\"display:none;\">\n",
              "        \n",
              "  <svg xmlns=\"http://www.w3.org/2000/svg\" height=\"24px\"viewBox=\"0 0 24 24\"\n",
              "       width=\"24px\">\n",
              "    <path d=\"M0 0h24v24H0V0z\" fill=\"none\"/>\n",
              "    <path d=\"M18.56 5.44l.94 2.06.94-2.06 2.06-.94-2.06-.94-.94-2.06-.94 2.06-2.06.94zm-11 1L8.5 8.5l.94-2.06 2.06-.94-2.06-.94L8.5 2.5l-.94 2.06-2.06.94zm10 10l.94 2.06.94-2.06 2.06-.94-2.06-.94-.94-2.06-.94 2.06-2.06.94z\"/><path d=\"M17.41 7.96l-1.37-1.37c-.4-.4-.92-.59-1.43-.59-.52 0-1.04.2-1.43.59L10.3 9.45l-7.72 7.72c-.78.78-.78 2.05 0 2.83L4 21.41c.39.39.9.59 1.41.59.51 0 1.02-.2 1.41-.59l7.78-7.78 2.81-2.81c.8-.78.8-2.07 0-2.86zM5.41 20L4 18.59l7.72-7.72 1.47 1.35L5.41 20z\"/>\n",
              "  </svg>\n",
              "      </button>\n",
              "      \n",
              "  <style>\n",
              "    .colab-df-container {\n",
              "      display:flex;\n",
              "      flex-wrap:wrap;\n",
              "      gap: 12px;\n",
              "    }\n",
              "\n",
              "    .colab-df-convert {\n",
              "      background-color: #E8F0FE;\n",
              "      border: none;\n",
              "      border-radius: 50%;\n",
              "      cursor: pointer;\n",
              "      display: none;\n",
              "      fill: #1967D2;\n",
              "      height: 32px;\n",
              "      padding: 0 0 0 0;\n",
              "      width: 32px;\n",
              "    }\n",
              "\n",
              "    .colab-df-convert:hover {\n",
              "      background-color: #E2EBFA;\n",
              "      box-shadow: 0px 1px 2px rgba(60, 64, 67, 0.3), 0px 1px 3px 1px rgba(60, 64, 67, 0.15);\n",
              "      fill: #174EA6;\n",
              "    }\n",
              "\n",
              "    [theme=dark] .colab-df-convert {\n",
              "      background-color: #3B4455;\n",
              "      fill: #D2E3FC;\n",
              "    }\n",
              "\n",
              "    [theme=dark] .colab-df-convert:hover {\n",
              "      background-color: #434B5C;\n",
              "      box-shadow: 0px 1px 3px 1px rgba(0, 0, 0, 0.15);\n",
              "      filter: drop-shadow(0px 1px 2px rgba(0, 0, 0, 0.3));\n",
              "      fill: #FFFFFF;\n",
              "    }\n",
              "  </style>\n",
              "\n",
              "      <script>\n",
              "        const buttonEl =\n",
              "          document.querySelector('#df-294986ee-6b71-4ef4-83f9-5ac7a8164645 button.colab-df-convert');\n",
              "        buttonEl.style.display =\n",
              "          google.colab.kernel.accessAllowed ? 'block' : 'none';\n",
              "\n",
              "        async function convertToInteractive(key) {\n",
              "          const element = document.querySelector('#df-294986ee-6b71-4ef4-83f9-5ac7a8164645');\n",
              "          const dataTable =\n",
              "            await google.colab.kernel.invokeFunction('convertToInteractive',\n",
              "                                                     [key], {});\n",
              "          if (!dataTable) return;\n",
              "\n",
              "          const docLinkHtml = 'Like what you see? Visit the ' +\n",
              "            '<a target=\"_blank\" href=https://colab.research.google.com/notebooks/data_table.ipynb>data table notebook</a>'\n",
              "            + ' to learn more about interactive tables.';\n",
              "          element.innerHTML = '';\n",
              "          dataTable['output_type'] = 'display_data';\n",
              "          await google.colab.output.renderOutput(dataTable, element);\n",
              "          const docLink = document.createElement('div');\n",
              "          docLink.innerHTML = docLinkHtml;\n",
              "          element.appendChild(docLink);\n",
              "        }\n",
              "      </script>\n",
              "    </div>\n",
              "  </div>\n",
              "  "
            ]
          },
          "metadata": {},
          "execution_count": 12
        }
      ]
    },
    {
      "cell_type": "code",
      "source": [
        "# Plot cumulative returns for portfolio\n",
        "cum_rtn = ((1+df_port).cumprod()-1)\n",
        "cum_rtn[['port_rtn', 'port_rtn_ew', 'port_rtn_mcap']].plot()"
      ],
      "metadata": {
        "id": "IXPnYy3_SdLp",
        "colab": {
          "base_uri": "https://localhost:8080/",
          "height": 296
        },
        "outputId": "eb302c2c-b29c-4a1e-92a6-76e7ac28de06"
      },
      "execution_count": 13,
      "outputs": [
        {
          "output_type": "execute_result",
          "data": {
            "text/plain": [
              "<matplotlib.axes._subplots.AxesSubplot at 0x7f1e84d6a730>"
            ]
          },
          "metadata": {},
          "execution_count": 13
        },
        {
          "output_type": "display_data",
          "data": {
            "text/plain": [
              "<Figure size 432x288 with 1 Axes>"
            ],
            "image/png": "[encoded data removed]"
          },
          "metadata": {
            "needs_background": "light"
          }
        }
      ]
    },
    {
      "cell_type": "code",
      "source": [
        "# Plot cumulative returns for single tickers\n",
        "cum_rtn.iloc[:,:n_ticker].plot()"
      ],
      "metadata": {
        "id": "Oae2i26FVAcS",
        "colab": {
          "base_uri": "https://localhost:8080/",
          "height": 294
        },
        "outputId": "094e7989-b76f-40f2-e9e9-ddfe43dc0dae"
      },
      "execution_count": 14,
      "outputs": [
        {
          "output_type": "execute_result",
          "data": {
            "text/plain": [
              "<matplotlib.axes._subplots.AxesSubplot at 0x7f1e84d81ac0>"
            ]
          },
          "metadata": {},
          "execution_count": 14
        },
        {
          "output_type": "display_data",
          "data": {
            "text/plain": [
              "<Figure size 432x288 with 1 Axes>"
            ],
            "image/png": "[encoded data removed]"
          },
          "metadata": {
            "needs_background": "light"
          }
        }
      ]
    },
    {
      "cell_type": "markdown",
      "source": [
        "## 3. Correlation and co-variance"
      ],
      "metadata": {
        "id": "K_lA6Ttre9l1"
      }
    },
    {
      "cell_type": "code",
      "source": [
        "# Correlation matrix\n",
        "corr_mat = df_port.iloc[:,:n_ticker].corr()\n",
        "corr_mat"
      ],
      "metadata": {
        "id": "QpFTN9wGcdg_",
        "colab": {
          "base_uri": "https://localhost:8080/",
          "height": 206
        },
        "outputId": "e997313c-dbd2-4bb2-ab53-861756afd66e"
      },
      "execution_count": 15,
      "outputs": [
        {
          "output_type": "execute_result",
          "data": {
            "text/plain": [
              "          AAPL      MSFT       XOM       JNJ       JPM\n",
              "AAPL  1.000000  0.437430  0.055505  0.038432  0.199914\n",
              "MSFT  0.437430  1.000000  0.084108  0.230215  0.191248\n",
              "XOM   0.055505  0.084108  1.000000  0.121012  0.305926\n",
              "JNJ   0.038432  0.230215  0.121012  1.000000  0.070328\n",
              "JPM   0.199914  0.191248  0.305926  0.070328  1.000000"
            ],
            "text/html": [
              "\n",
              "  <div id=\"df-5f58c7ea-5c99-4400-aa52-664a9bff6837\">\n",
              "    <div class=\"colab-df-container\">\n",
              "      <div>\n",
              "<style scoped>\n",
              "    .dataframe tbody tr th:only-of-type {\n",
              "        vertical-align: middle;\n",
              "    }\n",
              "\n",
              "    .dataframe tbody tr th {\n",
              "        vertical-align: top;\n",
              "    }\n",
              "\n",
              "    .dataframe thead th {\n",
              "        text-align: right;\n",
              "    }\n",
              "</style>\n",
              "<table border=\"1\" class=\"dataframe\">\n",
              "  <thead>\n",
              "    <tr style=\"text-align: right;\">\n",
              "      <th></th>\n",
              "      <th>AAPL</th>\n",
              "      <th>MSFT</th>\n",
              "      <th>XOM</th>\n",
              "      <th>JNJ</th>\n",
              "      <th>JPM</th>\n",
              "    </tr>\n",
              "  </thead>\n",
              "  <tbody>\n",
              "    <tr>\n",
              "      <th>AAPL</th>\n",
              "      <td>1.000000</td>\n",
              "      <td>0.437430</td>\n",
              "      <td>0.055505</td>\n",
              "      <td>0.038432</td>\n",
              "      <td>0.199914</td>\n",
              "    </tr>\n",
              "    <tr>\n",
              "      <th>MSFT</th>\n",
              "      <td>0.437430</td>\n",
              "      <td>1.000000</td>\n",
              "      <td>0.084108</td>\n",
              "      <td>0.230215</td>\n",
              "      <td>0.191248</td>\n",
              "    </tr>\n",
              "    <tr>\n",
              "      <th>XOM</th>\n",
              "      <td>0.055505</td>\n",
              "      <td>0.084108</td>\n",
              "      <td>1.000000</td>\n",
              "      <td>0.121012</td>\n",
              "      <td>0.305926</td>\n",
              "    </tr>\n",
              "    <tr>\n",
              "      <th>JNJ</th>\n",
              "      <td>0.038432</td>\n",
              "      <td>0.230215</td>\n",
              "      <td>0.121012</td>\n",
              "      <td>1.000000</td>\n",
              "      <td>0.070328</td>\n",
              "    </tr>\n",
              "    <tr>\n",
              "      <th>JPM</th>\n",
              "      <td>0.199914</td>\n",
              "      <td>0.191248</td>\n",
              "      <td>0.305926</td>\n",
              "      <td>0.070328</td>\n",
              "      <td>1.000000</td>\n",
              "    </tr>\n",
              "  </tbody>\n",
              "</table>\n",
              "</div>\n",
              "      <button class=\"colab-df-convert\" onclick=\"convertToInteractive('df-5f58c7ea-5c99-4400-aa52-664a9bff6837')\"\n",
              "              title=\"Convert this dataframe to an interactive table.\"\n",
              "              style=\"display:none;\">\n",
              "        \n",
              "  <svg xmlns=\"http://www.w3.org/2000/svg\" height=\"24px\"viewBox=\"0 0 24 24\"\n",
              "       width=\"24px\">\n",
              "    <path d=\"M0 0h24v24H0V0z\" fill=\"none\"/>\n",
              "    <path d=\"M18.56 5.44l.94 2.06.94-2.06 2.06-.94-2.06-.94-.94-2.06-.94 2.06-2.06.94zm-11 1L8.5 8.5l.94-2.06 2.06-.94-2.06-.94L8.5 2.5l-.94 2.06-2.06.94zm10 10l.94 2.06.94-2.06 2.06-.94-2.06-.94-.94-2.06-.94 2.06-2.06.94z\"/><path d=\"M17.41 7.96l-1.37-1.37c-.4-.4-.92-.59-1.43-.59-.52 0-1.04.2-1.43.59L10.3 9.45l-7.72 7.72c-.78.78-.78 2.05 0 2.83L4 21.41c.39.39.9.59 1.41.59.51 0 1.02-.2 1.41-.59l7.78-7.78 2.81-2.81c.8-.78.8-2.07 0-2.86zM5.41 20L4 18.59l7.72-7.72 1.47 1.35L5.41 20z\"/>\n",
              "  </svg>\n",
              "      </button>\n",
              "      \n",
              "  <style>\n",
              "    .colab-df-container {\n",
              "      display:flex;\n",
              "      flex-wrap:wrap;\n",
              "      gap: 12px;\n",
              "    }\n",
              "\n",
              "    .colab-df-convert {\n",
              "      background-color: #E8F0FE;\n",
              "      border: none;\n",
              "      border-radius: 50%;\n",
              "      cursor: pointer;\n",
              "      display: none;\n",
              "      fill: #1967D2;\n",
              "      height: 32px;\n",
              "      padding: 0 0 0 0;\n",
              "      width: 32px;\n",
              "    }\n",
              "\n",
              "    .colab-df-convert:hover {\n",
              "      background-color: #E2EBFA;\n",
              "      box-shadow: 0px 1px 2px rgba(60, 64, 67, 0.3), 0px 1px 3px 1px rgba(60, 64, 67, 0.15);\n",
              "      fill: #174EA6;\n",
              "    }\n",
              "\n",
              "    [theme=dark] .colab-df-convert {\n",
              "      background-color: #3B4455;\n",
              "      fill: #D2E3FC;\n",
              "    }\n",
              "\n",
              "    [theme=dark] .colab-df-convert:hover {\n",
              "      background-color: #434B5C;\n",
              "      box-shadow: 0px 1px 3px 1px rgba(0, 0, 0, 0.15);\n",
              "      filter: drop-shadow(0px 1px 2px rgba(0, 0, 0, 0.3));\n",
              "      fill: #FFFFFF;\n",
              "    }\n",
              "  </style>\n",
              "\n",
              "      <script>\n",
              "        const buttonEl =\n",
              "          document.querySelector('#df-5f58c7ea-5c99-4400-aa52-664a9bff6837 button.colab-df-convert');\n",
              "        buttonEl.style.display =\n",
              "          google.colab.kernel.accessAllowed ? 'block' : 'none';\n",
              "\n",
              "        async function convertToInteractive(key) {\n",
              "          const element = document.querySelector('#df-5f58c7ea-5c99-4400-aa52-664a9bff6837');\n",
              "          const dataTable =\n",
              "            await google.colab.kernel.invokeFunction('convertToInteractive',\n",
              "                                                     [key], {});\n",
              "          if (!dataTable) return;\n",
              "\n",
              "          const docLinkHtml = 'Like what you see? Visit the ' +\n",
              "            '<a target=\"_blank\" href=https://colab.research.google.com/notebooks/data_table.ipynb>data table notebook</a>'\n",
              "            + ' to learn more about interactive tables.';\n",
              "          element.innerHTML = '';\n",
              "          dataTable['output_type'] = 'display_data';\n",
              "          await google.colab.output.renderOutput(dataTable, element);\n",
              "          const docLink = document.createElement('div');\n",
              "          docLink.innerHTML = docLinkHtml;\n",
              "          element.appendChild(docLink);\n",
              "        }\n",
              "      </script>\n",
              "    </div>\n",
              "  </div>\n",
              "  "
            ]
          },
          "metadata": {},
          "execution_count": 15
        }
      ]
    },
    {
      "cell_type": "code",
      "source": [
        "# Heatmap\n",
        "sns.heatmap(corr_mat, annot=True, fmt=\".2f\", cmap='crest')\n",
        "plt.show()"
      ],
      "metadata": {
        "id": "Avrr_IQ_KtPn",
        "colab": {
          "base_uri": "https://localhost:8080/",
          "height": 269
        },
        "outputId": "da26baac-f6f5-4366-8e0d-2cd40532608d"
      },
      "execution_count": 16,
      "outputs": [
        {
          "output_type": "display_data",
          "data": {
            "text/plain": [
              "<Figure size 432x288 with 2 Axes>"
            ],
            "image/png": "[encoded data removed]"
          },
          "metadata": {
            "needs_background": "light"
          }
        }
      ]
    },
    {
      "cell_type": "code",
      "source": [
        "# Co-variance matrix\n",
        "cov_mat = df_port.iloc[:,:n_ticker].cov()\n",
        "cov_mat"
      ],
      "metadata": {
        "id": "uKdCbvOVHITx",
        "colab": {
          "base_uri": "https://localhost:8080/",
          "height": 206
        },
        "outputId": "eb177f61-074a-43a0-c9a1-1e5a8d380ee0"
      },
      "execution_count": 17,
      "outputs": [
        {
          "output_type": "execute_result",
          "data": {
            "text/plain": [
              "          AAPL      MSFT       XOM       JNJ       JPM\n",
              "AAPL  0.000123  0.000045  0.000004  0.000003  0.000023\n",
              "MSFT  0.000045  0.000087  0.000006  0.000015  0.000018\n",
              "XOM   0.000004  0.000006  0.000050  0.000006  0.000022\n",
              "JNJ   0.000003  0.000015  0.000006  0.000052  0.000005\n",
              "JPM   0.000023  0.000018  0.000022  0.000005  0.000105"
            ],
            "text/html": [
              "\n",
              "  <div id=\"df-9c0eb73f-94b8-4fbe-841d-d41e09e8e85c\">\n",
              "    <div class=\"colab-df-container\">\n",
              "      <div>\n",
              "<style scoped>\n",
              "    .dataframe tbody tr th:only-of-type {\n",
              "        vertical-align: middle;\n",
              "    }\n",
              "\n",
              "    .dataframe tbody tr th {\n",
              "        vertical-align: top;\n",
              "    }\n",
              "\n",
              "    .dataframe thead th {\n",
              "        text-align: right;\n",
              "    }\n",
              "</style>\n",
              "<table border=\"1\" class=\"dataframe\">\n",
              "  <thead>\n",
              "    <tr style=\"text-align: right;\">\n",
              "      <th></th>\n",
              "      <th>AAPL</th>\n",
              "      <th>MSFT</th>\n",
              "      <th>XOM</th>\n",
              "      <th>JNJ</th>\n",
              "      <th>JPM</th>\n",
              "    </tr>\n",
              "  </thead>\n",
              "  <tbody>\n",
              "    <tr>\n",
              "      <th>AAPL</th>\n",
              "      <td>0.000123</td>\n",
              "      <td>0.000045</td>\n",
              "      <td>0.000004</td>\n",
              "      <td>0.000003</td>\n",
              "      <td>0.000023</td>\n",
              "    </tr>\n",
              "    <tr>\n",
              "      <th>MSFT</th>\n",
              "      <td>0.000045</td>\n",
              "      <td>0.000087</td>\n",
              "      <td>0.000006</td>\n",
              "      <td>0.000015</td>\n",
              "      <td>0.000018</td>\n",
              "    </tr>\n",
              "    <tr>\n",
              "      <th>XOM</th>\n",
              "      <td>0.000004</td>\n",
              "      <td>0.000006</td>\n",
              "      <td>0.000050</td>\n",
              "      <td>0.000006</td>\n",
              "      <td>0.000022</td>\n",
              "    </tr>\n",
              "    <tr>\n",
              "      <th>JNJ</th>\n",
              "      <td>0.000003</td>\n",
              "      <td>0.000015</td>\n",
              "      <td>0.000006</td>\n",
              "      <td>0.000052</td>\n",
              "      <td>0.000005</td>\n",
              "    </tr>\n",
              "    <tr>\n",
              "      <th>JPM</th>\n",
              "      <td>0.000023</td>\n",
              "      <td>0.000018</td>\n",
              "      <td>0.000022</td>\n",
              "      <td>0.000005</td>\n",
              "      <td>0.000105</td>\n",
              "    </tr>\n",
              "  </tbody>\n",
              "</table>\n",
              "</div>\n",
              "      <button class=\"colab-df-convert\" onclick=\"convertToInteractive('df-9c0eb73f-94b8-4fbe-841d-d41e09e8e85c')\"\n",
              "              title=\"Convert this dataframe to an interactive table.\"\n",
              "              style=\"display:none;\">\n",
              "        \n",
              "  <svg xmlns=\"http://www.w3.org/2000/svg\" height=\"24px\"viewBox=\"0 0 24 24\"\n",
              "       width=\"24px\">\n",
              "    <path d=\"M0 0h24v24H0V0z\" fill=\"none\"/>\n",
              "    <path d=\"M18.56 5.44l.94 2.06.94-2.06 2.06-.94-2.06-.94-.94-2.06-.94 2.06-2.06.94zm-11 1L8.5 8.5l.94-2.06 2.06-.94-2.06-.94L8.5 2.5l-.94 2.06-2.06.94zm10 10l.94 2.06.94-2.06 2.06-.94-2.06-.94-.94-2.06-.94 2.06-2.06.94z\"/><path d=\"M17.41 7.96l-1.37-1.37c-.4-.4-.92-.59-1.43-.59-.52 0-1.04.2-1.43.59L10.3 9.45l-7.72 7.72c-.78.78-.78 2.05 0 2.83L4 21.41c.39.39.9.59 1.41.59.51 0 1.02-.2 1.41-.59l7.78-7.78 2.81-2.81c.8-.78.8-2.07 0-2.86zM5.41 20L4 18.59l7.72-7.72 1.47 1.35L5.41 20z\"/>\n",
              "  </svg>\n",
              "      </button>\n",
              "      \n",
              "  <style>\n",
              "    .colab-df-container {\n",
              "      display:flex;\n",
              "      flex-wrap:wrap;\n",
              "      gap: 12px;\n",
              "    }\n",
              "\n",
              "    .colab-df-convert {\n",
              "      background-color: #E8F0FE;\n",
              "      border: none;\n",
              "      border-radius: 50%;\n",
              "      cursor: pointer;\n",
              "      display: none;\n",
              "      fill: #1967D2;\n",
              "      height: 32px;\n",
              "      padding: 0 0 0 0;\n",
              "      width: 32px;\n",
              "    }\n",
              "\n",
              "    .colab-df-convert:hover {\n",
              "      background-color: #E2EBFA;\n",
              "      box-shadow: 0px 1px 2px rgba(60, 64, 67, 0.3), 0px 1px 3px 1px rgba(60, 64, 67, 0.15);\n",
              "      fill: #174EA6;\n",
              "    }\n",
              "\n",
              "    [theme=dark] .colab-df-convert {\n",
              "      background-color: #3B4455;\n",
              "      fill: #D2E3FC;\n",
              "    }\n",
              "\n",
              "    [theme=dark] .colab-df-convert:hover {\n",
              "      background-color: #434B5C;\n",
              "      box-shadow: 0px 1px 3px 1px rgba(0, 0, 0, 0.15);\n",
              "      filter: drop-shadow(0px 1px 2px rgba(0, 0, 0, 0.3));\n",
              "      fill: #FFFFFF;\n",
              "    }\n",
              "  </style>\n",
              "\n",
              "      <script>\n",
              "        const buttonEl =\n",
              "          document.querySelector('#df-9c0eb73f-94b8-4fbe-841d-d41e09e8e85c button.colab-df-convert');\n",
              "        buttonEl.style.display =\n",
              "          google.colab.kernel.accessAllowed ? 'block' : 'none';\n",
              "\n",
              "        async function convertToInteractive(key) {\n",
              "          const element = document.querySelector('#df-9c0eb73f-94b8-4fbe-841d-d41e09e8e85c');\n",
              "          const dataTable =\n",
              "            await google.colab.kernel.invokeFunction('convertToInteractive',\n",
              "                                                     [key], {});\n",
              "          if (!dataTable) return;\n",
              "\n",
              "          const docLinkHtml = 'Like what you see? Visit the ' +\n",
              "            '<a target=\"_blank\" href=https://colab.research.google.com/notebooks/data_table.ipynb>data table notebook</a>'\n",
              "            + ' to learn more about interactive tables.';\n",
              "          element.innerHTML = '';\n",
              "          dataTable['output_type'] = 'display_data';\n",
              "          await google.colab.output.renderOutput(dataTable, element);\n",
              "          const docLink = document.createElement('div');\n",
              "          docLink.innerHTML = docLinkHtml;\n",
              "          element.appendChild(docLink);\n",
              "        }\n",
              "      </script>\n",
              "    </div>\n",
              "  </div>\n",
              "  "
            ]
          },
          "metadata": {},
          "execution_count": 17
        }
      ]
    },
    {
      "cell_type": "code",
      "source": [
        "# Annualized co-variance matrix\n",
        "cov_mat_annual = cov_mat*252\n",
        "cov_mat_annual"
      ],
      "metadata": {
        "id": "IO-AGDVeNxy1",
        "colab": {
          "base_uri": "https://localhost:8080/",
          "height": 206
        },
        "outputId": "a99de5a4-c1a2-4a8d-97be-66d4baeed4ca"
      },
      "execution_count": 18,
      "outputs": [
        {
          "output_type": "execute_result",
          "data": {
            "text/plain": [
              "          AAPL      MSFT       XOM       JNJ       JPM\n",
              "AAPL  0.030996  0.011400  0.001093  0.000774  0.005716\n",
              "MSFT  0.011400  0.021912  0.001392  0.003899  0.004597\n",
              "XOM   0.001093  0.001392  0.012500  0.001548  0.005554\n",
              "JNJ   0.000774  0.003899  0.001548  0.013092  0.001307\n",
              "JPM   0.005716  0.004597  0.005554  0.001307  0.026371"
            ],
            "text/html": [
              "\n",
              "  <div id=\"df-aa7a50a6-cbcb-4245-a905-398d8d3a5987\">\n",
              "    <div class=\"colab-df-container\">\n",
              "      <div>\n",
              "<style scoped>\n",
              "    .dataframe tbody tr th:only-of-type {\n",
              "        vertical-align: middle;\n",
              "    }\n",
              "\n",
              "    .dataframe tbody tr th {\n",
              "        vertical-align: top;\n",
              "    }\n",
              "\n",
              "    .dataframe thead th {\n",
              "        text-align: right;\n",
              "    }\n",
              "</style>\n",
              "<table border=\"1\" class=\"dataframe\">\n",
              "  <thead>\n",
              "    <tr style=\"text-align: right;\">\n",
              "      <th></th>\n",
              "      <th>AAPL</th>\n",
              "      <th>MSFT</th>\n",
              "      <th>XOM</th>\n",
              "      <th>JNJ</th>\n",
              "      <th>JPM</th>\n",
              "    </tr>\n",
              "  </thead>\n",
              "  <tbody>\n",
              "    <tr>\n",
              "      <th>AAPL</th>\n",
              "      <td>0.030996</td>\n",
              "      <td>0.011400</td>\n",
              "      <td>0.001093</td>\n",
              "      <td>0.000774</td>\n",
              "      <td>0.005716</td>\n",
              "    </tr>\n",
              "    <tr>\n",
              "      <th>MSFT</th>\n",
              "      <td>0.011400</td>\n",
              "      <td>0.021912</td>\n",
              "      <td>0.001392</td>\n",
              "      <td>0.003899</td>\n",
              "      <td>0.004597</td>\n",
              "    </tr>\n",
              "    <tr>\n",
              "      <th>XOM</th>\n",
              "      <td>0.001093</td>\n",
              "      <td>0.001392</td>\n",
              "      <td>0.012500</td>\n",
              "      <td>0.001548</td>\n",
              "      <td>0.005554</td>\n",
              "    </tr>\n",
              "    <tr>\n",
              "      <th>JNJ</th>\n",
              "      <td>0.000774</td>\n",
              "      <td>0.003899</td>\n",
              "      <td>0.001548</td>\n",
              "      <td>0.013092</td>\n",
              "      <td>0.001307</td>\n",
              "    </tr>\n",
              "    <tr>\n",
              "      <th>JPM</th>\n",
              "      <td>0.005716</td>\n",
              "      <td>0.004597</td>\n",
              "      <td>0.005554</td>\n",
              "      <td>0.001307</td>\n",
              "      <td>0.026371</td>\n",
              "    </tr>\n",
              "  </tbody>\n",
              "</table>\n",
              "</div>\n",
              "      <button class=\"colab-df-convert\" onclick=\"convertToInteractive('df-aa7a50a6-cbcb-4245-a905-398d8d3a5987')\"\n",
              "              title=\"Convert this dataframe to an interactive table.\"\n",
              "              style=\"display:none;\">\n",
              "        \n",
              "  <svg xmlns=\"http://www.w3.org/2000/svg\" height=\"24px\"viewBox=\"0 0 24 24\"\n",
              "       width=\"24px\">\n",
              "    <path d=\"M0 0h24v24H0V0z\" fill=\"none\"/>\n",
              "    <path d=\"M18.56 5.44l.94 2.06.94-2.06 2.06-.94-2.06-.94-.94-2.06-.94 2.06-2.06.94zm-11 1L8.5 8.5l.94-2.06 2.06-.94-2.06-.94L8.5 2.5l-.94 2.06-2.06.94zm10 10l.94 2.06.94-2.06 2.06-.94-2.06-.94-.94-2.06-.94 2.06-2.06.94z\"/><path d=\"M17.41 7.96l-1.37-1.37c-.4-.4-.92-.59-1.43-.59-.52 0-1.04.2-1.43.59L10.3 9.45l-7.72 7.72c-.78.78-.78 2.05 0 2.83L4 21.41c.39.39.9.59 1.41.59.51 0 1.02-.2 1.41-.59l7.78-7.78 2.81-2.81c.8-.78.8-2.07 0-2.86zM5.41 20L4 18.59l7.72-7.72 1.47 1.35L5.41 20z\"/>\n",
              "  </svg>\n",
              "      </button>\n",
              "      \n",
              "  <style>\n",
              "    .colab-df-container {\n",
              "      display:flex;\n",
              "      flex-wrap:wrap;\n",
              "      gap: 12px;\n",
              "    }\n",
              "\n",
              "    .colab-df-convert {\n",
              "      background-color: #E8F0FE;\n",
              "      border: none;\n",
              "      border-radius: 50%;\n",
              "      cursor: pointer;\n",
              "      display: none;\n",
              "      fill: #1967D2;\n",
              "      height: 32px;\n",
              "      padding: 0 0 0 0;\n",
              "      width: 32px;\n",
              "    }\n",
              "\n",
              "    .colab-df-convert:hover {\n",
              "      background-color: #E2EBFA;\n",
              "      box-shadow: 0px 1px 2px rgba(60, 64, 67, 0.3), 0px 1px 3px 1px rgba(60, 64, 67, 0.15);\n",
              "      fill: #174EA6;\n",
              "    }\n",
              "\n",
              "    [theme=dark] .colab-df-convert {\n",
              "      background-color: #3B4455;\n",
              "      fill: #D2E3FC;\n",
              "    }\n",
              "\n",
              "    [theme=dark] .colab-df-convert:hover {\n",
              "      background-color: #434B5C;\n",
              "      box-shadow: 0px 1px 3px 1px rgba(0, 0, 0, 0.15);\n",
              "      filter: drop-shadow(0px 1px 2px rgba(0, 0, 0, 0.3));\n",
              "      fill: #FFFFFF;\n",
              "    }\n",
              "  </style>\n",
              "\n",
              "      <script>\n",
              "        const buttonEl =\n",
              "          document.querySelector('#df-aa7a50a6-cbcb-4245-a905-398d8d3a5987 button.colab-df-convert');\n",
              "        buttonEl.style.display =\n",
              "          google.colab.kernel.accessAllowed ? 'block' : 'none';\n",
              "\n",
              "        async function convertToInteractive(key) {\n",
              "          const element = document.querySelector('#df-aa7a50a6-cbcb-4245-a905-398d8d3a5987');\n",
              "          const dataTable =\n",
              "            await google.colab.kernel.invokeFunction('convertToInteractive',\n",
              "                                                     [key], {});\n",
              "          if (!dataTable) return;\n",
              "\n",
              "          const docLinkHtml = 'Like what you see? Visit the ' +\n",
              "            '<a target=\"_blank\" href=https://colab.research.google.com/notebooks/data_table.ipynb>data table notebook</a>'\n",
              "            + ' to learn more about interactive tables.';\n",
              "          element.innerHTML = '';\n",
              "          dataTable['output_type'] = 'display_data';\n",
              "          await google.colab.output.renderOutput(dataTable, element);\n",
              "          const docLink = document.createElement('div');\n",
              "          docLink.innerHTML = docLinkHtml;\n",
              "          element.appendChild(docLink);\n",
              "        }\n",
              "      </script>\n",
              "    </div>\n",
              "  </div>\n",
              "  "
            ]
          },
          "metadata": {},
          "execution_count": 18
        }
      ]
    },
    {
      "cell_type": "markdown",
      "source": [
        "### 3.1 Portfolio standard deviation"
      ],
      "metadata": {
        "id": "o1wjFeiSb9Ri"
      }
    },
    {
      "cell_type": "markdown",
      "source": [
        "#### 3.1.1 Two asset portfolio\n",
        "$\\sigma_p=\\sqrt{w_1^2 \\sigma_1^2 + w_2^2 \\sigma_2^2 + 2w_1w_2 \\rho_{1,2} \\sigma_1 \\sigma_2}$\n",
        ">$\\sigma_p$: portfolio standard deviation\\\n",
        ">$w$: asset weight\\\n",
        ">$\\sigma$: asset volatility\\\n",
        ">$\\rho_{1,2}$: correlation between assets 1 and 2"
      ],
      "metadata": {
        "id": "S0nWr1jUH_pL"
      }
    },
    {
      "cell_type": "markdown",
      "source": [
        "#### 3.1.2 Multi-asset portfolio\n",
        "$\\sigma_{Portfolio}=\\sqrt{w_T \\cdot \\Sigma \\cdot w}$\n",
        ">$\\sigma_{Portfolio}$: portfolio volatility\\\n",
        ">$\\Sigma$: covariance matrix of returns\\\n",
        ">$w$: portfolio weights\\\n",
        ">$w_T$: transposed portfolio weights\\\n",
        ">$\\cdot$: dot product operator:\n",
        "$a\\cdot b=\\Sigma_{i=1}^{n}a_ib_i=a_1b_1+a_2b_2+...+a_nb_n$"
      ],
      "metadata": {
        "id": "PxxwqKjjOrKc"
      }
    },
    {
      "cell_type": "code",
      "source": [
        "port_vol = np.sqrt(np.dot(port_weights[:n_ticker].T, np.dot(cov_mat, port_weights[:n_ticker])))\n",
        "port_vol"
      ],
      "metadata": {
        "id": "Q0yAzMjrOCy1",
        "colab": {
          "base_uri": "https://localhost:8080/"
        },
        "outputId": "73bf323f-8138-4de9-84b7-1591e0bd30b0"
      },
      "execution_count": 19,
      "outputs": [
        {
          "output_type": "execute_result",
          "data": {
            "text/plain": [
              "0.004568831703557459"
            ]
          },
          "metadata": {},
          "execution_count": 19
        }
      ]
    },
    {
      "cell_type": "markdown",
      "source": [
        "### 3.2 Sharpe ratio\n",
        "$S = \\frac{R_a-r_f}{\\sigma_a}$\n",
        ">$R_a$: asset return\\\n",
        ">$r_f$: risk-free rate of return\\\n",
        ">$\\sigma_a$: asset volatility"
      ],
      "metadata": {
        "id": "rqJWGmq3bQKx"
      }
    },
    {
      "cell_type": "markdown",
      "source": [
        "### 3.3 Markovitz portfolios"
      ],
      "metadata": {
        "id": "wqmAq5eohIIV"
      }
    },
    {
      "cell_type": "code",
      "source": [
        "rfr = 0\n",
        "df_port2 = pd.read_csv(\"https://assets.datacamp.com/production/repositories/1546/datasets/85e2663a50d3445cbc2c2d30ac81abbaae6a7f56/EfficientFrontierPortfoliosSlim.csv\")\n",
        "df_port2[\"Sharpe\"] = (df_port2['Returns']-rfr)/df_port2['Volatility']\n",
        "df_port2.head(2)"
      ],
      "metadata": {
        "id": "Z6uNDTjhhy1i",
        "colab": {
          "base_uri": "https://localhost:8080/",
          "height": 173
        },
        "outputId": "5ad41c95-ca00-4fa5-c5d0-783915303b21"
      },
      "execution_count": 20,
      "outputs": [
        {
          "output_type": "execute_result",
          "data": {
            "text/plain": [
              "   AAPL weight  MSFT weight  XOM weight  JNJ weight  JPM weight  AMZN weight  \\\n",
              "0     0.000053     0.263110    0.007022    0.040087    0.000027     0.024316   \n",
              "1     0.042360     0.034922    0.079355    0.043057    0.001435     0.202032   \n",
              "\n",
              "   GE weight  FB weight  T weight   Returns  Volatility    Sharpe  \n",
              "0   0.355899   0.299400  0.010087  0.127453    0.171565  0.742884  \n",
              "1   0.225924   0.362324  0.008590  0.138614    0.182723  0.758601  "
            ],
            "text/html": [
              "\n",
              "  <div id=\"df-3436def7-ae46-4b7e-b80a-8aebb0970755\">\n",
              "    <div class=\"colab-df-container\">\n",
              "      <div>\n",
              "<style scoped>\n",
              "    .dataframe tbody tr th:only-of-type {\n",
              "        vertical-align: middle;\n",
              "    }\n",
              "\n",
              "    .dataframe tbody tr th {\n",
              "        vertical-align: top;\n",
              "    }\n",
              "\n",
              "    .dataframe thead th {\n",
              "        text-align: right;\n",
              "    }\n",
              "</style>\n",
              "<table border=\"1\" class=\"dataframe\">\n",
              "  <thead>\n",
              "    <tr style=\"text-align: right;\">\n",
              "      <th></th>\n",
              "      <th>AAPL weight</th>\n",
              "      <th>MSFT weight</th>\n",
              "      <th>XOM weight</th>\n",
              "      <th>JNJ weight</th>\n",
              "      <th>JPM weight</th>\n",
              "      <th>AMZN weight</th>\n",
              "      <th>GE weight</th>\n",
              "      <th>FB weight</th>\n",
              "      <th>T weight</th>\n",
              "      <th>Returns</th>\n",
              "      <th>Volatility</th>\n",
              "      <th>Sharpe</th>\n",
              "    </tr>\n",
              "  </thead>\n",
              "  <tbody>\n",
              "    <tr>\n",
              "      <th>0</th>\n",
              "      <td>0.000053</td>\n",
              "      <td>0.263110</td>\n",
              "      <td>0.007022</td>\n",
              "      <td>0.040087</td>\n",
              "      <td>0.000027</td>\n",
              "      <td>0.024316</td>\n",
              "      <td>0.355899</td>\n",
              "      <td>0.299400</td>\n",
              "      <td>0.010087</td>\n",
              "      <td>0.127453</td>\n",
              "      <td>0.171565</td>\n",
              "      <td>0.742884</td>\n",
              "    </tr>\n",
              "    <tr>\n",
              "      <th>1</th>\n",
              "      <td>0.042360</td>\n",
              "      <td>0.034922</td>\n",
              "      <td>0.079355</td>\n",
              "      <td>0.043057</td>\n",
              "      <td>0.001435</td>\n",
              "      <td>0.202032</td>\n",
              "      <td>0.225924</td>\n",
              "      <td>0.362324</td>\n",
              "      <td>0.008590</td>\n",
              "      <td>0.138614</td>\n",
              "      <td>0.182723</td>\n",
              "      <td>0.758601</td>\n",
              "    </tr>\n",
              "  </tbody>\n",
              "</table>\n",
              "</div>\n",
              "      <button class=\"colab-df-convert\" onclick=\"convertToInteractive('df-3436def7-ae46-4b7e-b80a-8aebb0970755')\"\n",
              "              title=\"Convert this dataframe to an interactive table.\"\n",
              "              style=\"display:none;\">\n",
              "        \n",
              "  <svg xmlns=\"http://www.w3.org/2000/svg\" height=\"24px\"viewBox=\"0 0 24 24\"\n",
              "       width=\"24px\">\n",
              "    <path d=\"M0 0h24v24H0V0z\" fill=\"none\"/>\n",
              "    <path d=\"M18.56 5.44l.94 2.06.94-2.06 2.06-.94-2.06-.94-.94-2.06-.94 2.06-2.06.94zm-11 1L8.5 8.5l.94-2.06 2.06-.94-2.06-.94L8.5 2.5l-.94 2.06-2.06.94zm10 10l.94 2.06.94-2.06 2.06-.94-2.06-.94-.94-2.06-.94 2.06-2.06.94z\"/><path d=\"M17.41 7.96l-1.37-1.37c-.4-.4-.92-.59-1.43-.59-.52 0-1.04.2-1.43.59L10.3 9.45l-7.72 7.72c-.78.78-.78 2.05 0 2.83L4 21.41c.39.39.9.59 1.41.59.51 0 1.02-.2 1.41-.59l7.78-7.78 2.81-2.81c.8-.78.8-2.07 0-2.86zM5.41 20L4 18.59l7.72-7.72 1.47 1.35L5.41 20z\"/>\n",
              "  </svg>\n",
              "      </button>\n",
              "      \n",
              "  <style>\n",
              "    .colab-df-container {\n",
              "      display:flex;\n",
              "      flex-wrap:wrap;\n",
              "      gap: 12px;\n",
              "    }\n",
              "\n",
              "    .colab-df-convert {\n",
              "      background-color: #E8F0FE;\n",
              "      border: none;\n",
              "      border-radius: 50%;\n",
              "      cursor: pointer;\n",
              "      display: none;\n",
              "      fill: #1967D2;\n",
              "      height: 32px;\n",
              "      padding: 0 0 0 0;\n",
              "      width: 32px;\n",
              "    }\n",
              "\n",
              "    .colab-df-convert:hover {\n",
              "      background-color: #E2EBFA;\n",
              "      box-shadow: 0px 1px 2px rgba(60, 64, 67, 0.3), 0px 1px 3px 1px rgba(60, 64, 67, 0.15);\n",
              "      fill: #174EA6;\n",
              "    }\n",
              "\n",
              "    [theme=dark] .colab-df-convert {\n",
              "      background-color: #3B4455;\n",
              "      fill: #D2E3FC;\n",
              "    }\n",
              "\n",
              "    [theme=dark] .colab-df-convert:hover {\n",
              "      background-color: #434B5C;\n",
              "      box-shadow: 0px 1px 3px 1px rgba(0, 0, 0, 0.15);\n",
              "      filter: drop-shadow(0px 1px 2px rgba(0, 0, 0, 0.3));\n",
              "      fill: #FFFFFF;\n",
              "    }\n",
              "  </style>\n",
              "\n",
              "      <script>\n",
              "        const buttonEl =\n",
              "          document.querySelector('#df-3436def7-ae46-4b7e-b80a-8aebb0970755 button.colab-df-convert');\n",
              "        buttonEl.style.display =\n",
              "          google.colab.kernel.accessAllowed ? 'block' : 'none';\n",
              "\n",
              "        async function convertToInteractive(key) {\n",
              "          const element = document.querySelector('#df-3436def7-ae46-4b7e-b80a-8aebb0970755');\n",
              "          const dataTable =\n",
              "            await google.colab.kernel.invokeFunction('convertToInteractive',\n",
              "                                                     [key], {});\n",
              "          if (!dataTable) return;\n",
              "\n",
              "          const docLinkHtml = 'Like what you see? Visit the ' +\n",
              "            '<a target=\"_blank\" href=https://colab.research.google.com/notebooks/data_table.ipynb>data table notebook</a>'\n",
              "            + ' to learn more about interactive tables.';\n",
              "          element.innerHTML = '';\n",
              "          dataTable['output_type'] = 'display_data';\n",
              "          await google.colab.output.renderOutput(dataTable, element);\n",
              "          const docLink = document.createElement('div');\n",
              "          docLink.innerHTML = docLinkHtml;\n",
              "          element.appendChild(docLink);\n",
              "        }\n",
              "      </script>\n",
              "    </div>\n",
              "  </div>\n",
              "  "
            ]
          },
          "metadata": {},
          "execution_count": 20
        }
      ]
    },
    {
      "cell_type": "code",
      "source": [
        "# Maximum Sharpe Ratio (MSR) Returns portfolio\n",
        "MSR_weights = np.array(df_port2.sort_values(by=['Sharpe'], ascending=False).iloc[0, :n_ticker])\n",
        "MSR_weights"
      ],
      "metadata": {
        "id": "8lsuUi5fiUvV",
        "colab": {
          "base_uri": "https://localhost:8080/"
        },
        "outputId": "923c0ae2-dc1b-4efb-d9ed-3e0764201d18"
      },
      "execution_count": 21,
      "outputs": [
        {
          "output_type": "execute_result",
          "data": {
            "text/plain": [
              "array([0.00755369, 0.00573255, 0.00724446, 0.16672379, 0.38235578])"
            ]
          },
          "metadata": {},
          "execution_count": 21
        }
      ]
    },
    {
      "cell_type": "code",
      "source": [
        "# Global Minimum Volatility (GMV) Returns portfolio\n",
        "GMV_weights = np.array(df_port2.sort_values(by=['Volatility'], ascending=True).iloc[0, :n_ticker])\n",
        "GMV_weights"
      ],
      "metadata": {
        "id": "8LL23ZobijB7",
        "colab": {
          "base_uri": "https://localhost:8080/"
        },
        "outputId": "6de0efa6-23af-4f5f-f256-c36df09cc8b3"
      },
      "execution_count": 22,
      "outputs": [
        {
          "output_type": "execute_result",
          "data": {
            "text/plain": [
              "array([0.08658622, 0.01522472, 0.04522291, 0.34099938, 0.02868646])"
            ]
          },
          "metadata": {},
          "execution_count": 22
        }
      ]
    },
    {
      "cell_type": "code",
      "source": [
        "# Plot cumulative returns for portfolio\n",
        "df_port['port_rtn_msr'] = df_port.iloc[:, :n_ticker].mul(MSR_weights, axis=1).sum(axis=1)\n",
        "df_port['port_rtn_gmv'] = df_port.iloc[:, :n_ticker].mul(GMV_weights, axis=1).sum(axis=1)\n",
        "cum_rtn = ((1+df_port).cumprod()-1)\n",
        "cum_rtn[['port_rtn', 'port_rtn_ew', 'port_rtn_mcap', 'port_rtn_msr', 'port_rtn_gmv']].plot()"
      ],
      "metadata": {
        "id": "_-FUNJfWjQ18",
        "colab": {
          "base_uri": "https://localhost:8080/",
          "height": 296
        },
        "outputId": "15ce9d3c-7bc4-4a21-baae-86e645823124"
      },
      "execution_count": 23,
      "outputs": [
        {
          "output_type": "execute_result",
          "data": {
            "text/plain": [
              "<matplotlib.axes._subplots.AxesSubplot at 0x7f1e8243df10>"
            ]
          },
          "metadata": {},
          "execution_count": 23
        },
        {
          "output_type": "display_data",
          "data": {
            "text/plain": [
              "<Figure size 432x288 with 1 Axes>"
            ],
            "image/png": "[encoded data removed]"
          },
          "metadata": {
            "needs_background": "light"
          }
        }
      ]
    },
    {
      "cell_type": "markdown",
      "source": [
        "### Model 1: CAPM model\n",
        "$E(R_P)-RF=\\beta_P(E(R_M-RF))$\n",
        ">$E(R_P)-RF$: the excess expected return of portfolio P\\\n",
        ">$E(R_M)-RF$: the excess expected return of the broad market portfolio B\\\n",
        ">$RF$: the regional risk-free rate\\\n",
        ">$\\beta_P$: portfolio beta, or exposure, to the broad market portfolio B\n",
        ">>$\\beta_P=\\frac{Cov(R_P,R_B)}{Var(R_B)}$\n",
        ">>>$\\beta_P$: portfolio beta\\\n",
        ">>>$Cov(R_P,R_B)$: co-variance between portfolio P and the benchmark index (B)\\\n",
        ">>>$Var(R_B)$: variance of the benchmark market index"
      ],
      "metadata": {
        "id": "XoCwbrhn9rUT"
      }
    },
    {
      "cell_type": "markdown",
      "source": [
        "Regression: \\\n",
        "$y = \\beta X + \\epsilon$"
      ],
      "metadata": {
        "id": "Ek-krhoPTfTK"
      }
    },
    {
      "cell_type": "code",
      "source": [
        "df_port3 = pd.read_csv('https://assets.datacamp.com/production/repositories/1546/datasets/3d9b734fea954b629d2477ef48c36525dfecf6e0/FamaFrenchFactors.csv',\n",
        "                       parse_dates=['Date'])\n",
        "df_port3 = df_port3.sort_values(by=['Date'], ascending=True)\n",
        "df_port3.set_index('Date', inplace=True)\n",
        "df_port3.head()"
      ],
      "metadata": {
        "id": "FQhL7CJrni3D",
        "colab": {
          "base_uri": "https://localhost:8080/",
          "height": 238
        },
        "outputId": "366039da-3424-4b98-c89a-3c87df9a5915"
      },
      "execution_count": 24,
      "outputs": [
        {
          "output_type": "execute_result",
          "data": {
            "text/plain": [
              "            Portfolio  Market_Excess     SMB     HML     RMW     CMA   RF\n",
              "Date                                                                     \n",
              "2013-01-03  -0.005066        -0.0014  0.0014  0.0004  0.0020  0.0023  0.0\n",
              "2013-01-04   0.004024         0.0055  0.0019  0.0043 -0.0037  0.0027  0.0\n",
              "2013-01-07   0.004421        -0.0031 -0.0009 -0.0037 -0.0013 -0.0012  0.0\n",
              "2013-01-08  -0.004659        -0.0027  0.0004 -0.0007 -0.0012  0.0009  0.0\n",
              "2013-01-09   0.004636         0.0034  0.0024 -0.0041 -0.0007 -0.0015  0.0"
            ],
            "text/html": [
              "\n",
              "  <div id=\"df-57dd6f3a-ee73-4e9b-aabc-c3248d173e71\">\n",
              "    <div class=\"colab-df-container\">\n",
              "      <div>\n",
              "<style scoped>\n",
              "    .dataframe tbody tr th:only-of-type {\n",
              "        vertical-align: middle;\n",
              "    }\n",
              "\n",
              "    .dataframe tbody tr th {\n",
              "        vertical-align: top;\n",
              "    }\n",
              "\n",
              "    .dataframe thead th {\n",
              "        text-align: right;\n",
              "    }\n",
              "</style>\n",
              "<table border=\"1\" class=\"dataframe\">\n",
              "  <thead>\n",
              "    <tr style=\"text-align: right;\">\n",
              "      <th></th>\n",
              "      <th>Portfolio</th>\n",
              "      <th>Market_Excess</th>\n",
              "      <th>SMB</th>\n",
              "      <th>HML</th>\n",
              "      <th>RMW</th>\n",
              "      <th>CMA</th>\n",
              "      <th>RF</th>\n",
              "    </tr>\n",
              "    <tr>\n",
              "      <th>Date</th>\n",
              "      <th></th>\n",
              "      <th></th>\n",
              "      <th></th>\n",
              "      <th></th>\n",
              "      <th></th>\n",
              "      <th></th>\n",
              "      <th></th>\n",
              "    </tr>\n",
              "  </thead>\n",
              "  <tbody>\n",
              "    <tr>\n",
              "      <th>2013-01-03</th>\n",
              "      <td>-0.005066</td>\n",
              "      <td>-0.0014</td>\n",
              "      <td>0.0014</td>\n",
              "      <td>0.0004</td>\n",
              "      <td>0.0020</td>\n",
              "      <td>0.0023</td>\n",
              "      <td>0.0</td>\n",
              "    </tr>\n",
              "    <tr>\n",
              "      <th>2013-01-04</th>\n",
              "      <td>0.004024</td>\n",
              "      <td>0.0055</td>\n",
              "      <td>0.0019</td>\n",
              "      <td>0.0043</td>\n",
              "      <td>-0.0037</td>\n",
              "      <td>0.0027</td>\n",
              "      <td>0.0</td>\n",
              "    </tr>\n",
              "    <tr>\n",
              "      <th>2013-01-07</th>\n",
              "      <td>0.004421</td>\n",
              "      <td>-0.0031</td>\n",
              "      <td>-0.0009</td>\n",
              "      <td>-0.0037</td>\n",
              "      <td>-0.0013</td>\n",
              "      <td>-0.0012</td>\n",
              "      <td>0.0</td>\n",
              "    </tr>\n",
              "    <tr>\n",
              "      <th>2013-01-08</th>\n",
              "      <td>-0.004659</td>\n",
              "      <td>-0.0027</td>\n",
              "      <td>0.0004</td>\n",
              "      <td>-0.0007</td>\n",
              "      <td>-0.0012</td>\n",
              "      <td>0.0009</td>\n",
              "      <td>0.0</td>\n",
              "    </tr>\n",
              "    <tr>\n",
              "      <th>2013-01-09</th>\n",
              "      <td>0.004636</td>\n",
              "      <td>0.0034</td>\n",
              "      <td>0.0024</td>\n",
              "      <td>-0.0041</td>\n",
              "      <td>-0.0007</td>\n",
              "      <td>-0.0015</td>\n",
              "      <td>0.0</td>\n",
              "    </tr>\n",
              "  </tbody>\n",
              "</table>\n",
              "</div>\n",
              "      <button class=\"colab-df-convert\" onclick=\"convertToInteractive('df-57dd6f3a-ee73-4e9b-aabc-c3248d173e71')\"\n",
              "              title=\"Convert this dataframe to an interactive table.\"\n",
              "              style=\"display:none;\">\n",
              "        \n",
              "  <svg xmlns=\"http://www.w3.org/2000/svg\" height=\"24px\"viewBox=\"0 0 24 24\"\n",
              "       width=\"24px\">\n",
              "    <path d=\"M0 0h24v24H0V0z\" fill=\"none\"/>\n",
              "    <path d=\"M18.56 5.44l.94 2.06.94-2.06 2.06-.94-2.06-.94-.94-2.06-.94 2.06-2.06.94zm-11 1L8.5 8.5l.94-2.06 2.06-.94-2.06-.94L8.5 2.5l-.94 2.06-2.06.94zm10 10l.94 2.06.94-2.06 2.06-.94-2.06-.94-.94-2.06-.94 2.06-2.06.94z\"/><path d=\"M17.41 7.96l-1.37-1.37c-.4-.4-.92-.59-1.43-.59-.52 0-1.04.2-1.43.59L10.3 9.45l-7.72 7.72c-.78.78-.78 2.05 0 2.83L4 21.41c.39.39.9.59 1.41.59.51 0 1.02-.2 1.41-.59l7.78-7.78 2.81-2.81c.8-.78.8-2.07 0-2.86zM5.41 20L4 18.59l7.72-7.72 1.47 1.35L5.41 20z\"/>\n",
              "  </svg>\n",
              "      </button>\n",
              "      \n",
              "  <style>\n",
              "    .colab-df-container {\n",
              "      display:flex;\n",
              "      flex-wrap:wrap;\n",
              "      gap: 12px;\n",
              "    }\n",
              "\n",
              "    .colab-df-convert {\n",
              "      background-color: #E8F0FE;\n",
              "      border: none;\n",
              "      border-radius: 50%;\n",
              "      cursor: pointer;\n",
              "      display: none;\n",
              "      fill: #1967D2;\n",
              "      height: 32px;\n",
              "      padding: 0 0 0 0;\n",
              "      width: 32px;\n",
              "    }\n",
              "\n",
              "    .colab-df-convert:hover {\n",
              "      background-color: #E2EBFA;\n",
              "      box-shadow: 0px 1px 2px rgba(60, 64, 67, 0.3), 0px 1px 3px 1px rgba(60, 64, 67, 0.15);\n",
              "      fill: #174EA6;\n",
              "    }\n",
              "\n",
              "    [theme=dark] .colab-df-convert {\n",
              "      background-color: #3B4455;\n",
              "      fill: #D2E3FC;\n",
              "    }\n",
              "\n",
              "    [theme=dark] .colab-df-convert:hover {\n",
              "      background-color: #434B5C;\n",
              "      box-shadow: 0px 1px 3px 1px rgba(0, 0, 0, 0.15);\n",
              "      filter: drop-shadow(0px 1px 2px rgba(0, 0, 0, 0.3));\n",
              "      fill: #FFFFFF;\n",
              "    }\n",
              "  </style>\n",
              "\n",
              "      <script>\n",
              "        const buttonEl =\n",
              "          document.querySelector('#df-57dd6f3a-ee73-4e9b-aabc-c3248d173e71 button.colab-df-convert');\n",
              "        buttonEl.style.display =\n",
              "          google.colab.kernel.accessAllowed ? 'block' : 'none';\n",
              "\n",
              "        async function convertToInteractive(key) {\n",
              "          const element = document.querySelector('#df-57dd6f3a-ee73-4e9b-aabc-c3248d173e71');\n",
              "          const dataTable =\n",
              "            await google.colab.kernel.invokeFunction('convertToInteractive',\n",
              "                                                     [key], {});\n",
              "          if (!dataTable) return;\n",
              "\n",
              "          const docLinkHtml = 'Like what you see? Visit the ' +\n",
              "            '<a target=\"_blank\" href=https://colab.research.google.com/notebooks/data_table.ipynb>data table notebook</a>'\n",
              "            + ' to learn more about interactive tables.';\n",
              "          element.innerHTML = '';\n",
              "          dataTable['output_type'] = 'display_data';\n",
              "          await google.colab.output.renderOutput(dataTable, element);\n",
              "          const docLink = document.createElement('div');\n",
              "          docLink.innerHTML = docLinkHtml;\n",
              "          element.appendChild(docLink);\n",
              "        }\n",
              "      </script>\n",
              "    </div>\n",
              "  </div>\n",
              "  "
            ]
          },
          "metadata": {},
          "execution_count": 24
        }
      ]
    },
    {
      "cell_type": "code",
      "source": [
        "df_port3['Portfolio_Excess'] = df_port3['Portfolio']-df_port3['RF']\n",
        "\n",
        "# Plot cumulative return vs cumulative excess return\n",
        "cum_rtn = (1+df_port3[['Portfolio','Portfolio_Excess']]).cumprod()-1\n",
        "cum_rtn.plot()\n",
        "plt.show()"
      ],
      "metadata": {
        "id": "K3yOW-z3YADJ",
        "colab": {
          "base_uri": "https://localhost:8080/",
          "height": 269
        },
        "outputId": "55b87952-c1d5-4c5f-a662-41752fa7ccca"
      },
      "execution_count": 25,
      "outputs": [
        {
          "output_type": "display_data",
          "data": {
            "text/plain": [
              "<Figure size 432x288 with 1 Axes>"
            ],
            "image/png": "[encoded data removed]"
          },
          "metadata": {
            "needs_background": "light"
          }
        }
      ]
    },
    {
      "cell_type": "code",
      "source": [
        "# Co-variance\n",
        "covariance_matrix = df_port3[['Portfolio_Excess','Market_Excess']].cov()\n",
        "covariance_coefficient = covariance_matrix.iloc[0,1]\n",
        "benchmark_variance = df_port3['Market_Excess'].var()\n",
        "portfolio_beta = covariance_coefficient/benchmark_variance\n",
        "portfolio_beta"
      ],
      "metadata": {
        "id": "A43DbhN-YvEp",
        "colab": {
          "base_uri": "https://localhost:8080/"
        },
        "outputId": "213c6d1f-97fe-434f-b8ce-a4c46c0e23c0"
      },
      "execution_count": 26,
      "outputs": [
        {
          "output_type": "execute_result",
          "data": {
            "text/plain": [
              "0.9737755165745455"
            ]
          },
          "metadata": {},
          "execution_count": 26
        }
      ]
    },
    {
      "cell_type": "code",
      "source": [
        "covariance_matrix"
      ],
      "metadata": {
        "id": "wlrTSAZgaHLl",
        "colab": {
          "base_uri": "https://localhost:8080/",
          "height": 112
        },
        "outputId": "4cb235e8-bbf2-486b-c5be-d422bcd6fe36"
      },
      "execution_count": 27,
      "outputs": [
        {
          "output_type": "execute_result",
          "data": {
            "text/plain": [
              "                  Portfolio_Excess  Market_Excess\n",
              "Portfolio_Excess          0.000070       0.000057\n",
              "Market_Excess             0.000057       0.000059"
            ],
            "text/html": [
              "\n",
              "  <div id=\"df-244dbe33-e085-4d82-8ff0-aa37eed9e5c5\">\n",
              "    <div class=\"colab-df-container\">\n",
              "      <div>\n",
              "<style scoped>\n",
              "    .dataframe tbody tr th:only-of-type {\n",
              "        vertical-align: middle;\n",
              "    }\n",
              "\n",
              "    .dataframe tbody tr th {\n",
              "        vertical-align: top;\n",
              "    }\n",
              "\n",
              "    .dataframe thead th {\n",
              "        text-align: right;\n",
              "    }\n",
              "</style>\n",
              "<table border=\"1\" class=\"dataframe\">\n",
              "  <thead>\n",
              "    <tr style=\"text-align: right;\">\n",
              "      <th></th>\n",
              "      <th>Portfolio_Excess</th>\n",
              "      <th>Market_Excess</th>\n",
              "    </tr>\n",
              "  </thead>\n",
              "  <tbody>\n",
              "    <tr>\n",
              "      <th>Portfolio_Excess</th>\n",
              "      <td>0.000070</td>\n",
              "      <td>0.000057</td>\n",
              "    </tr>\n",
              "    <tr>\n",
              "      <th>Market_Excess</th>\n",
              "      <td>0.000057</td>\n",
              "      <td>0.000059</td>\n",
              "    </tr>\n",
              "  </tbody>\n",
              "</table>\n",
              "</div>\n",
              "      <button class=\"colab-df-convert\" onclick=\"convertToInteractive('df-244dbe33-e085-4d82-8ff0-aa37eed9e5c5')\"\n",
              "              title=\"Convert this dataframe to an interactive table.\"\n",
              "              style=\"display:none;\">\n",
              "        \n",
              "  <svg xmlns=\"http://www.w3.org/2000/svg\" height=\"24px\"viewBox=\"0 0 24 24\"\n",
              "       width=\"24px\">\n",
              "    <path d=\"M0 0h24v24H0V0z\" fill=\"none\"/>\n",
              "    <path d=\"M18.56 5.44l.94 2.06.94-2.06 2.06-.94-2.06-.94-.94-2.06-.94 2.06-2.06.94zm-11 1L8.5 8.5l.94-2.06 2.06-.94-2.06-.94L8.5 2.5l-.94 2.06-2.06.94zm10 10l.94 2.06.94-2.06 2.06-.94-2.06-.94-.94-2.06-.94 2.06-2.06.94z\"/><path d=\"M17.41 7.96l-1.37-1.37c-.4-.4-.92-.59-1.43-.59-.52 0-1.04.2-1.43.59L10.3 9.45l-7.72 7.72c-.78.78-.78 2.05 0 2.83L4 21.41c.39.39.9.59 1.41.59.51 0 1.02-.2 1.41-.59l7.78-7.78 2.81-2.81c.8-.78.8-2.07 0-2.86zM5.41 20L4 18.59l7.72-7.72 1.47 1.35L5.41 20z\"/>\n",
              "  </svg>\n",
              "      </button>\n",
              "      \n",
              "  <style>\n",
              "    .colab-df-container {\n",
              "      display:flex;\n",
              "      flex-wrap:wrap;\n",
              "      gap: 12px;\n",
              "    }\n",
              "\n",
              "    .colab-df-convert {\n",
              "      background-color: #E8F0FE;\n",
              "      border: none;\n",
              "      border-radius: 50%;\n",
              "      cursor: pointer;\n",
              "      display: none;\n",
              "      fill: #1967D2;\n",
              "      height: 32px;\n",
              "      padding: 0 0 0 0;\n",
              "      width: 32px;\n",
              "    }\n",
              "\n",
              "    .colab-df-convert:hover {\n",
              "      background-color: #E2EBFA;\n",
              "      box-shadow: 0px 1px 2px rgba(60, 64, 67, 0.3), 0px 1px 3px 1px rgba(60, 64, 67, 0.15);\n",
              "      fill: #174EA6;\n",
              "    }\n",
              "\n",
              "    [theme=dark] .colab-df-convert {\n",
              "      background-color: #3B4455;\n",
              "      fill: #D2E3FC;\n",
              "    }\n",
              "\n",
              "    [theme=dark] .colab-df-convert:hover {\n",
              "      background-color: #434B5C;\n",
              "      box-shadow: 0px 1px 3px 1px rgba(0, 0, 0, 0.15);\n",
              "      filter: drop-shadow(0px 1px 2px rgba(0, 0, 0, 0.3));\n",
              "      fill: #FFFFFF;\n",
              "    }\n",
              "  </style>\n",
              "\n",
              "      <script>\n",
              "        const buttonEl =\n",
              "          document.querySelector('#df-244dbe33-e085-4d82-8ff0-aa37eed9e5c5 button.colab-df-convert');\n",
              "        buttonEl.style.display =\n",
              "          google.colab.kernel.accessAllowed ? 'block' : 'none';\n",
              "\n",
              "        async function convertToInteractive(key) {\n",
              "          const element = document.querySelector('#df-244dbe33-e085-4d82-8ff0-aa37eed9e5c5');\n",
              "          const dataTable =\n",
              "            await google.colab.kernel.invokeFunction('convertToInteractive',\n",
              "                                                     [key], {});\n",
              "          if (!dataTable) return;\n",
              "\n",
              "          const docLinkHtml = 'Like what you see? Visit the ' +\n",
              "            '<a target=\"_blank\" href=https://colab.research.google.com/notebooks/data_table.ipynb>data table notebook</a>'\n",
              "            + ' to learn more about interactive tables.';\n",
              "          element.innerHTML = '';\n",
              "          dataTable['output_type'] = 'display_data';\n",
              "          await google.colab.output.renderOutput(dataTable, element);\n",
              "          const docLink = document.createElement('div');\n",
              "          docLink.innerHTML = docLinkHtml;\n",
              "          element.appendChild(docLink);\n",
              "        }\n",
              "      </script>\n",
              "    </div>\n",
              "  </div>\n",
              "  "
            ]
          },
          "metadata": {},
          "execution_count": 27
        }
      ]
    },
    {
      "cell_type": "code",
      "source": [
        "# Calculate beta with linear regression\n",
        "import statsmodels.formula.api as smf\n",
        "\n",
        "CAPM_model = smf.ols(formula='Portfolio_Excess~Market_Excess', data=df_port3)\n",
        "CAPM_fit = CAPM_model.fit()\n",
        "regression_beta = CAPM_fit.params['Market_Excess']\n",
        "\n",
        "print(regression_beta)\n",
        "print(CAPM_fit.rsquared) # R-squared\n",
        "print(CAPM_fit.rsquared_adj) # adjusted R-squared: avoid overfitting\n"
      ],
      "metadata": {
        "id": "uSM3P3iOaK2H",
        "colab": {
          "base_uri": "https://localhost:8080/"
        },
        "outputId": "ed93c122-6799-4340-9f2c-2cc3c4430861"
      },
      "execution_count": 28,
      "outputs": [
        {
          "output_type": "stream",
          "name": "stdout",
          "text": [
            "0.973775516574546\n",
            "0.7944263892587435\n",
            "0.7942627160017839\n"
          ]
        }
      ]
    },
    {
      "cell_type": "markdown",
      "source": [
        "### Model 2: Fama-French 3 Factor Model\n",
        "$R_P=RF+\\beta_M(R_M-RF)+b_{SMB}\\cdot SMB + b_{HML} \\cdot HML + \\alpha $\n",
        ">$SMB$: small minus big factor\\\n",
        ">$b_{SMB}$: exposure to the SMB factor\\\n",
        ">$HML$: high minus low factor\\\n",
        ">$b_{HML}$: exposure to the HML factor\\\n",
        ">$\\alpha$: performance which is unexplained by any other factors\\\n",
        ">$\\beta_M$: beta to the braod market portfolio B"
      ],
      "metadata": {
        "id": "bK6C7BzDyqHQ"
      }
    },
    {
      "cell_type": "code",
      "source": [
        "# Define a regression model that explains Portfolio_Excess as a function of Market_Excess, SMB, and HML\n",
        "FamaFrench_model = smf.ols(formula='Portfolio_Excess~Market_Excess+SMB+HML', data=df_port3)\n",
        "FamaFrench_fit = FamaFrench_model.fit()\n",
        "FamaFrench_adj_r_squared = FamaFrench_fit.rsquared_adj\n",
        "FamaFrench_adj_r_squared # higher than CAPM model"
      ],
      "metadata": {
        "id": "GH4ZrBkWcYJo",
        "colab": {
          "base_uri": "https://localhost:8080/"
        },
        "outputId": "0e614be9-7c4d-4a51-9294-4120dda8ad7f"
      },
      "execution_count": 29,
      "outputs": [
        {
          "output_type": "execute_result",
          "data": {
            "text/plain": [
              "0.8193910088585152"
            ]
          },
          "metadata": {},
          "execution_count": 29
        }
      ]
    },
    {
      "cell_type": "code",
      "source": [
        "# p-value of HML factor\n",
        "pvalue_HML = FamaFrench_fit.pvalues['HML']\n",
        "print(pvalue_HML)\n",
        "\n",
        "# Test if p-value is statistically significant\n",
        "print(pvalue_HML<0.05)\n",
        "\n",
        "# Extract coefficients\n",
        "print(FamaFrench_fit.params['HML'])\n",
        "print(FamaFrench_fit.params['SMB'])\n",
        "\n",
        "# Alpha and the efficient market hypothesis\n",
        "portfolio_alpha = FamaFrench_fit.params['Intercept']\n",
        "portfolio_alpha_annualized = ((1+portfolio_alpha)**252)-1\n",
        "print(portfolio_alpha_annualized) # which is efficient"
      ],
      "metadata": {
        "id": "jCDG-_YB0kI-",
        "colab": {
          "base_uri": "https://localhost:8080/"
        },
        "outputId": "e7280602-91fd-48a9-d27d-bf6d8fdd126b"
      },
      "execution_count": 30,
      "outputs": [
        {
          "output_type": "stream",
          "name": "stdout",
          "text": [
            "4.699308183443772e-07\n",
            "True\n",
            "-0.10865715035429256\n",
            "-0.26215152743192643\n",
            "0.04726181730280854\n"
          ]
        }
      ]
    },
    {
      "cell_type": "markdown",
      "source": [
        "### Model 3: Fama-French 5 Factor Model"
      ],
      "metadata": {
        "id": "BE3yjJ289Zu2"
      }
    },
    {
      "cell_type": "code",
      "source": [
        "# Expanded 5 factor model\n",
        "FamaFrench5_model = smf.ols(formula='Portfolio_Excess~Market_Excess+SMB+HML+RMW+CMA', data=df_port3)\n",
        "FamaFrench5_fit = FamaFrench5_model.fit()\n",
        "FamaFrench5_adj_r_squared = FamaFrench5_fit.rsquared_adj\n",
        "FamaFrench5_adj_r_squared # higher adjusted R-squared"
      ],
      "metadata": {
        "id": "WxjR5gv207dK",
        "colab": {
          "base_uri": "https://localhost:8080/"
        },
        "outputId": "8f0212bd-ce53-46b9-9e76-c4e77df8b3ee"
      },
      "execution_count": 31,
      "outputs": [
        {
          "output_type": "execute_result",
          "data": {
            "text/plain": [
              "0.8367245019225793"
            ]
          },
          "metadata": {},
          "execution_count": 31
        }
      ]
    },
    {
      "cell_type": "code",
      "source": [
        "# Alpha\n",
        "portfolio5_alpha = FamaFrench5_fit.params['Intercept']\n",
        "portfolio5_alpha_annualied = ((1+portfolio5_alpha)**252)-1\n",
        "portfolio5_alpha_annualied"
      ],
      "metadata": {
        "id": "9niAXFr79LkS",
        "colab": {
          "base_uri": "https://localhost:8080/"
        },
        "outputId": "964e1388-d466-43cb-fd44-56edc7fba915"
      },
      "execution_count": 32,
      "outputs": [
        {
          "output_type": "execute_result",
          "data": {
            "text/plain": [
              "0.044902389879467375"
            ]
          },
          "metadata": {},
          "execution_count": 32
        }
      ]
    },
    {
      "cell_type": "markdown",
      "source": [
        "## 4. Value at risk"
      ],
      "metadata": {
        "id": "GGWjbZ5PZFZ9"
      }
    },
    {
      "cell_type": "markdown",
      "source": [
        "### 4.1 Drawdown"
      ],
      "metadata": {
        "id": "H0NsDAD5idYg"
      }
    },
    {
      "cell_type": "markdown",
      "source": [
        "$Drawdown=\\frac{r_t}{RM}-1$\n",
        ">$r_t$: cumulative return at time t\\\n",
        ">$RM$: running maximum\n"
      ],
      "metadata": {
        "id": "1EpPaE1yYlJJ"
      }
    },
    {
      "cell_type": "code",
      "source": [
        "df_port4 = pd.read_csv('https://assets.datacamp.com/production/repositories/1546/datasets/dfe9da08c986709d59943d1d5c0106537a8c608a/USO.csv',\n",
        "                       parse_dates=['Date'])\n",
        "df_port4 = df_port4.sort_values(by=['Date'])\n",
        "df_port4.set_index('Date', inplace=True)\n",
        "df_port4.columns = ['Return']\n",
        "df_port4['cum_rtn'] = (1+df_port4).cumprod()-1\n",
        "df_port4.head()"
      ],
      "metadata": {
        "id": "M5kAdGIWZj0J",
        "colab": {
          "base_uri": "https://localhost:8080/",
          "height": 238
        },
        "outputId": "f4d4ec5d-4707-4bcf-dcab-5fd3e6f3efe7"
      },
      "execution_count": 33,
      "outputs": [
        {
          "output_type": "execute_result",
          "data": {
            "text/plain": [
              "              Return   cum_rtn\n",
              "Date                          \n",
              "2007-01-03 -0.042636 -0.042636\n",
              "2007-01-04 -0.040688 -0.081589\n",
              "2007-01-05  0.009285 -0.073062\n",
              "2007-01-08 -0.007109 -0.079651\n",
              "2007-01-09 -0.004001 -0.083333"
            ],
            "text/html": [
              "\n",
              "  <div id=\"df-e740da4a-98a9-44cd-b6f9-d9efb2f4cd96\">\n",
              "    <div class=\"colab-df-container\">\n",
              "      <div>\n",
              "<style scoped>\n",
              "    .dataframe tbody tr th:only-of-type {\n",
              "        vertical-align: middle;\n",
              "    }\n",
              "\n",
              "    .dataframe tbody tr th {\n",
              "        vertical-align: top;\n",
              "    }\n",
              "\n",
              "    .dataframe thead th {\n",
              "        text-align: right;\n",
              "    }\n",
              "</style>\n",
              "<table border=\"1\" class=\"dataframe\">\n",
              "  <thead>\n",
              "    <tr style=\"text-align: right;\">\n",
              "      <th></th>\n",
              "      <th>Return</th>\n",
              "      <th>cum_rtn</th>\n",
              "    </tr>\n",
              "    <tr>\n",
              "      <th>Date</th>\n",
              "      <th></th>\n",
              "      <th></th>\n",
              "    </tr>\n",
              "  </thead>\n",
              "  <tbody>\n",
              "    <tr>\n",
              "      <th>2007-01-03</th>\n",
              "      <td>-0.042636</td>\n",
              "      <td>-0.042636</td>\n",
              "    </tr>\n",
              "    <tr>\n",
              "      <th>2007-01-04</th>\n",
              "      <td>-0.040688</td>\n",
              "      <td>-0.081589</td>\n",
              "    </tr>\n",
              "    <tr>\n",
              "      <th>2007-01-05</th>\n",
              "      <td>0.009285</td>\n",
              "      <td>-0.073062</td>\n",
              "    </tr>\n",
              "    <tr>\n",
              "      <th>2007-01-08</th>\n",
              "      <td>-0.007109</td>\n",
              "      <td>-0.079651</td>\n",
              "    </tr>\n",
              "    <tr>\n",
              "      <th>2007-01-09</th>\n",
              "      <td>-0.004001</td>\n",
              "      <td>-0.083333</td>\n",
              "    </tr>\n",
              "  </tbody>\n",
              "</table>\n",
              "</div>\n",
              "      <button class=\"colab-df-convert\" onclick=\"convertToInteractive('df-e740da4a-98a9-44cd-b6f9-d9efb2f4cd96')\"\n",
              "              title=\"Convert this dataframe to an interactive table.\"\n",
              "              style=\"display:none;\">\n",
              "        \n",
              "  <svg xmlns=\"http://www.w3.org/2000/svg\" height=\"24px\"viewBox=\"0 0 24 24\"\n",
              "       width=\"24px\">\n",
              "    <path d=\"M0 0h24v24H0V0z\" fill=\"none\"/>\n",
              "    <path d=\"M18.56 5.44l.94 2.06.94-2.06 2.06-.94-2.06-.94-.94-2.06-.94 2.06-2.06.94zm-11 1L8.5 8.5l.94-2.06 2.06-.94-2.06-.94L8.5 2.5l-.94 2.06-2.06.94zm10 10l.94 2.06.94-2.06 2.06-.94-2.06-.94-.94-2.06-.94 2.06-2.06.94z\"/><path d=\"M17.41 7.96l-1.37-1.37c-.4-.4-.92-.59-1.43-.59-.52 0-1.04.2-1.43.59L10.3 9.45l-7.72 7.72c-.78.78-.78 2.05 0 2.83L4 21.41c.39.39.9.59 1.41.59.51 0 1.02-.2 1.41-.59l7.78-7.78 2.81-2.81c.8-.78.8-2.07 0-2.86zM5.41 20L4 18.59l7.72-7.72 1.47 1.35L5.41 20z\"/>\n",
              "  </svg>\n",
              "      </button>\n",
              "      \n",
              "  <style>\n",
              "    .colab-df-container {\n",
              "      display:flex;\n",
              "      flex-wrap:wrap;\n",
              "      gap: 12px;\n",
              "    }\n",
              "\n",
              "    .colab-df-convert {\n",
              "      background-color: #E8F0FE;\n",
              "      border: none;\n",
              "      border-radius: 50%;\n",
              "      cursor: pointer;\n",
              "      display: none;\n",
              "      fill: #1967D2;\n",
              "      height: 32px;\n",
              "      padding: 0 0 0 0;\n",
              "      width: 32px;\n",
              "    }\n",
              "\n",
              "    .colab-df-convert:hover {\n",
              "      background-color: #E2EBFA;\n",
              "      box-shadow: 0px 1px 2px rgba(60, 64, 67, 0.3), 0px 1px 3px 1px rgba(60, 64, 67, 0.15);\n",
              "      fill: #174EA6;\n",
              "    }\n",
              "\n",
              "    [theme=dark] .colab-df-convert {\n",
              "      background-color: #3B4455;\n",
              "      fill: #D2E3FC;\n",
              "    }\n",
              "\n",
              "    [theme=dark] .colab-df-convert:hover {\n",
              "      background-color: #434B5C;\n",
              "      box-shadow: 0px 1px 3px 1px rgba(0, 0, 0, 0.15);\n",
              "      filter: drop-shadow(0px 1px 2px rgba(0, 0, 0, 0.3));\n",
              "      fill: #FFFFFF;\n",
              "    }\n",
              "  </style>\n",
              "\n",
              "      <script>\n",
              "        const buttonEl =\n",
              "          document.querySelector('#df-e740da4a-98a9-44cd-b6f9-d9efb2f4cd96 button.colab-df-convert');\n",
              "        buttonEl.style.display =\n",
              "          google.colab.kernel.accessAllowed ? 'block' : 'none';\n",
              "\n",
              "        async function convertToInteractive(key) {\n",
              "          const element = document.querySelector('#df-e740da4a-98a9-44cd-b6f9-d9efb2f4cd96');\n",
              "          const dataTable =\n",
              "            await google.colab.kernel.invokeFunction('convertToInteractive',\n",
              "                                                     [key], {});\n",
              "          if (!dataTable) return;\n",
              "\n",
              "          const docLinkHtml = 'Like what you see? Visit the ' +\n",
              "            '<a target=\"_blank\" href=https://colab.research.google.com/notebooks/data_table.ipynb>data table notebook</a>'\n",
              "            + ' to learn more about interactive tables.';\n",
              "          element.innerHTML = '';\n",
              "          dataTable['output_type'] = 'display_data';\n",
              "          await google.colab.output.renderOutput(dataTable, element);\n",
              "          const docLink = document.createElement('div');\n",
              "          docLink.innerHTML = docLinkHtml;\n",
              "          element.appendChild(docLink);\n",
              "        }\n",
              "      </script>\n",
              "    </div>\n",
              "  </div>\n",
              "  "
            ]
          },
          "metadata": {},
          "execution_count": 33
        }
      ]
    },
    {
      "cell_type": "code",
      "source": [
        "# Calculate drawdown\n",
        "df_cum_rtn = pd.DataFrame(df_port4['cum_rtn'])\n",
        "running_max = np.maximum.accumulate(df_cum_rtn) # calculate the running maximum\n",
        "running_max[running_max<1] = 1 # ensure the value never drops below 1\n",
        "drawdown = df_cum_rtn/running_max -1 # calculate the percentage drawdown\n",
        "drawdown.columns = ['Drawdown']\n",
        "drawdown.head(2)"
      ],
      "metadata": {
        "id": "MdYek9NTdd4l",
        "colab": {
          "base_uri": "https://localhost:8080/",
          "height": 143
        },
        "outputId": "447c7681-2587-4d4a-88c7-4d0512555ba7"
      },
      "execution_count": 34,
      "outputs": [
        {
          "output_type": "execute_result",
          "data": {
            "text/plain": [
              "            Drawdown\n",
              "Date                \n",
              "2007-01-03 -1.042636\n",
              "2007-01-04 -1.081589"
            ],
            "text/html": [
              "\n",
              "  <div id=\"df-86969510-1328-4aec-8e5f-c90e8aed84a1\">\n",
              "    <div class=\"colab-df-container\">\n",
              "      <div>\n",
              "<style scoped>\n",
              "    .dataframe tbody tr th:only-of-type {\n",
              "        vertical-align: middle;\n",
              "    }\n",
              "\n",
              "    .dataframe tbody tr th {\n",
              "        vertical-align: top;\n",
              "    }\n",
              "\n",
              "    .dataframe thead th {\n",
              "        text-align: right;\n",
              "    }\n",
              "</style>\n",
              "<table border=\"1\" class=\"dataframe\">\n",
              "  <thead>\n",
              "    <tr style=\"text-align: right;\">\n",
              "      <th></th>\n",
              "      <th>Drawdown</th>\n",
              "    </tr>\n",
              "    <tr>\n",
              "      <th>Date</th>\n",
              "      <th></th>\n",
              "    </tr>\n",
              "  </thead>\n",
              "  <tbody>\n",
              "    <tr>\n",
              "      <th>2007-01-03</th>\n",
              "      <td>-1.042636</td>\n",
              "    </tr>\n",
              "    <tr>\n",
              "      <th>2007-01-04</th>\n",
              "      <td>-1.081589</td>\n",
              "    </tr>\n",
              "  </tbody>\n",
              "</table>\n",
              "</div>\n",
              "      <button class=\"colab-df-convert\" onclick=\"convertToInteractive('df-86969510-1328-4aec-8e5f-c90e8aed84a1')\"\n",
              "              title=\"Convert this dataframe to an interactive table.\"\n",
              "              style=\"display:none;\">\n",
              "        \n",
              "  <svg xmlns=\"http://www.w3.org/2000/svg\" height=\"24px\"viewBox=\"0 0 24 24\"\n",
              "       width=\"24px\">\n",
              "    <path d=\"M0 0h24v24H0V0z\" fill=\"none\"/>\n",
              "    <path d=\"M18.56 5.44l.94 2.06.94-2.06 2.06-.94-2.06-.94-.94-2.06-.94 2.06-2.06.94zm-11 1L8.5 8.5l.94-2.06 2.06-.94-2.06-.94L8.5 2.5l-.94 2.06-2.06.94zm10 10l.94 2.06.94-2.06 2.06-.94-2.06-.94-.94-2.06-.94 2.06-2.06.94z\"/><path d=\"M17.41 7.96l-1.37-1.37c-.4-.4-.92-.59-1.43-.59-.52 0-1.04.2-1.43.59L10.3 9.45l-7.72 7.72c-.78.78-.78 2.05 0 2.83L4 21.41c.39.39.9.59 1.41.59.51 0 1.02-.2 1.41-.59l7.78-7.78 2.81-2.81c.8-.78.8-2.07 0-2.86zM5.41 20L4 18.59l7.72-7.72 1.47 1.35L5.41 20z\"/>\n",
              "  </svg>\n",
              "      </button>\n",
              "      \n",
              "  <style>\n",
              "    .colab-df-container {\n",
              "      display:flex;\n",
              "      flex-wrap:wrap;\n",
              "      gap: 12px;\n",
              "    }\n",
              "\n",
              "    .colab-df-convert {\n",
              "      background-color: #E8F0FE;\n",
              "      border: none;\n",
              "      border-radius: 50%;\n",
              "      cursor: pointer;\n",
              "      display: none;\n",
              "      fill: #1967D2;\n",
              "      height: 32px;\n",
              "      padding: 0 0 0 0;\n",
              "      width: 32px;\n",
              "    }\n",
              "\n",
              "    .colab-df-convert:hover {\n",
              "      background-color: #E2EBFA;\n",
              "      box-shadow: 0px 1px 2px rgba(60, 64, 67, 0.3), 0px 1px 3px 1px rgba(60, 64, 67, 0.15);\n",
              "      fill: #174EA6;\n",
              "    }\n",
              "\n",
              "    [theme=dark] .colab-df-convert {\n",
              "      background-color: #3B4455;\n",
              "      fill: #D2E3FC;\n",
              "    }\n",
              "\n",
              "    [theme=dark] .colab-df-convert:hover {\n",
              "      background-color: #434B5C;\n",
              "      box-shadow: 0px 1px 3px 1px rgba(0, 0, 0, 0.15);\n",
              "      filter: drop-shadow(0px 1px 2px rgba(0, 0, 0, 0.3));\n",
              "      fill: #FFFFFF;\n",
              "    }\n",
              "  </style>\n",
              "\n",
              "      <script>\n",
              "        const buttonEl =\n",
              "          document.querySelector('#df-86969510-1328-4aec-8e5f-c90e8aed84a1 button.colab-df-convert');\n",
              "        buttonEl.style.display =\n",
              "          google.colab.kernel.accessAllowed ? 'block' : 'none';\n",
              "\n",
              "        async function convertToInteractive(key) {\n",
              "          const element = document.querySelector('#df-86969510-1328-4aec-8e5f-c90e8aed84a1');\n",
              "          const dataTable =\n",
              "            await google.colab.kernel.invokeFunction('convertToInteractive',\n",
              "                                                     [key], {});\n",
              "          if (!dataTable) return;\n",
              "\n",
              "          const docLinkHtml = 'Like what you see? Visit the ' +\n",
              "            '<a target=\"_blank\" href=https://colab.research.google.com/notebooks/data_table.ipynb>data table notebook</a>'\n",
              "            + ' to learn more about interactive tables.';\n",
              "          element.innerHTML = '';\n",
              "          dataTable['output_type'] = 'display_data';\n",
              "          await google.colab.output.renderOutput(dataTable, element);\n",
              "          const docLink = document.createElement('div');\n",
              "          docLink.innerHTML = docLinkHtml;\n",
              "          element.appendChild(docLink);\n",
              "        }\n",
              "      </script>\n",
              "    </div>\n",
              "  </div>\n",
              "  "
            ]
          },
          "metadata": {},
          "execution_count": 34
        }
      ]
    },
    {
      "cell_type": "code",
      "source": [
        "# Plot drawdown\n",
        "drawdown.plot()\n",
        "plt.fill_between(drawdown.index, drawdown['Drawdown'])\n",
        "plt.show()"
      ],
      "metadata": {
        "id": "v9qKRAPBe9zV",
        "colab": {
          "base_uri": "https://localhost:8080/",
          "height": 269
        },
        "outputId": "93a144e5-fd8c-411e-e187-15f61817fae9"
      },
      "execution_count": 35,
      "outputs": [
        {
          "output_type": "display_data",
          "data": {
            "text/plain": [
              "<Figure size 432x288 with 1 Axes>"
            ],
            "image/png": "[encoded data removed]"
          },
          "metadata": {
            "needs_background": "light"
          }
        }
      ]
    },
    {
      "cell_type": "markdown",
      "source": [
        "### 4.2 VaR & CVaR"
      ],
      "metadata": {
        "id": "624iz_fEigq_"
      }
    },
    {
      "cell_type": "code",
      "source": [
        "# VaR(95)\n",
        "var_level = 95\n",
        "return_pct = df_port4['Return']*100\n",
        "var_95 = np.percentile(return_pct, 100-var_level)\n",
        "var_95 # 95% certain that losses will not exceed -3.61% in a given day based on historical values"
      ],
      "metadata": {
        "id": "fINF3yh3ilIu",
        "colab": {
          "base_uri": "https://localhost:8080/"
        },
        "outputId": "5f70e292-c849-450b-a9fa-f1a77abf2598"
      },
      "execution_count": 36,
      "outputs": [
        {
          "output_type": "execute_result",
          "data": {
            "text/plain": [
              "-3.608233764037496"
            ]
          },
          "metadata": {},
          "execution_count": 36
        }
      ]
    },
    {
      "cell_type": "code",
      "source": [
        "# CVaR(95): \n",
        "cvar_95 = (df_port4[return_pct<=var_95]['Return']*100).mean()\n",
        "cvar_95 # in the worst 5% of cases, losses were on average exceed -5.05% historically"
      ],
      "metadata": {
        "id": "odUfFPfhfYir",
        "colab": {
          "base_uri": "https://localhost:8080/"
        },
        "outputId": "204eb84b-a2c0-4ac5-de2e-256ba6a1eb3c"
      },
      "execution_count": 37,
      "outputs": [
        {
          "output_type": "execute_result",
          "data": {
            "text/plain": [
              "-5.054143158346777"
            ]
          },
          "metadata": {},
          "execution_count": 37
        }
      ]
    },
    {
      "cell_type": "code",
      "source": [
        "plt.hist(return_pct, density=True)\n",
        "\n",
        "plt.axvline(var_95, color='r')\n",
        "plt.text(var_95*0.9, 0.15, 'VaR(95)={:.3f}'.format(var_95), color='r')\n",
        "\n",
        "plt.axvline(cvar_95, color='b')\n",
        "plt.text(cvar_95*2.2, 0.1, 'CVaR(95)={:.3f}'.format(cvar_95), color='b')\n",
        "\n",
        "plt.xlabel('Return(%)')\n",
        "plt.ylabel('Probability')\n",
        "plt.title('Distribution of Returns')\n",
        "plt.grid(False)\n",
        "plt.show()"
      ],
      "metadata": {
        "id": "5BrZn6SghJ4S",
        "colab": {
          "base_uri": "https://localhost:8080/",
          "height": 295
        },
        "outputId": "7a7fd508-4f1f-43ca-c68d-94e1a1574125"
      },
      "execution_count": 38,
      "outputs": [
        {
          "output_type": "display_data",
          "data": {
            "text/plain": [
              "<Figure size 432x288 with 1 Axes>"
            ],
            "image/png": "[encoded data removed]"
          },
          "metadata": {
            "needs_background": "light"
          }
        }
      ]
    },
    {
      "cell_type": "code",
      "source": [
        "# Parametric VaR(95)\n",
        "mu = np.mean(df_port4['Return'])\n",
        "vol = np.std(df_port4['Return'])\n",
        "confidence_level = 0.05\n",
        "parametric_var_95 = norm.ppf(confidence_level, mu, vol) # probability density function\n",
        "print(f\"Mean: {mu}\\nVolatility: {vol}\\nVaR(95): {parametric_var_95}\")"
      ],
      "metadata": {
        "id": "3Wzqy6E7FKt2",
        "colab": {
          "base_uri": "https://localhost:8080/"
        },
        "outputId": "8653128f-3bb5-4959-e070-0be18d3ee5bd"
      },
      "execution_count": 39,
      "outputs": [
        {
          "output_type": "stream",
          "name": "stdout",
          "text": [
            "Mean: -0.00028638956240214787\n",
            "Volatility: 0.021888087129708852\n",
            "VaR(95): -0.03628908906473361\n"
          ]
        }
      ]
    },
    {
      "cell_type": "markdown",
      "source": [
        "$VaR(95)_{T\\;days} = VaR(95)_{daily}\\sqrt{T}$"
      ],
      "metadata": {
        "id": "nbwuuECFfoI0"
      }
    },
    {
      "cell_type": "code",
      "source": [
        "# Scaling risk estimates\n",
        "forecast_days = 5\n",
        "parametric_var_95_5d = parametric_var_95*np.sqrt(forecast_days)\n",
        "parametric_var_95_5d"
      ],
      "metadata": {
        "id": "sU7TslDLbDdk",
        "colab": {
          "base_uri": "https://localhost:8080/"
        },
        "outputId": "4e7f9d8f-8be9-4522-facc-d5a9975f651c"
      },
      "execution_count": 40,
      "outputs": [
        {
          "output_type": "execute_result",
          "data": {
            "text/plain": [
              "-0.08114486999028862"
            ]
          },
          "metadata": {},
          "execution_count": 40
        }
      ]
    },
    {
      "cell_type": "markdown",
      "source": [
        "### 4.3 Random walks"
      ],
      "metadata": {
        "id": "fqyYKA9z3uHR"
      }
    },
    {
      "cell_type": "code",
      "source": [
        "# One random simulation\n",
        "T = 252\n",
        "S0 = 10 # starting stock value\n",
        "random_tests = np.random.normal(mu, vol, T) + 1\n",
        "forecasted_values = S0*(random_tests.cumprod()) # simulate the stock value over 1 yr"
      ],
      "metadata": {
        "id": "FIZWBKJis-JZ"
      },
      "execution_count": 41,
      "outputs": []
    },
    {
      "cell_type": "code",
      "source": [
        "# Monte Carlo simulation\n",
        "simulated_rtn = []\n",
        "\n",
        "for i in range(100):\n",
        "  random_rtn = np.random.normal(mu, vol, T)\n",
        "  simulated_rtn.append(random_rtn)\n",
        "  # Plot the Monte Carlo path\n",
        "  forecasted_values = S0*((1+random_rtn).cumprod())\n",
        "  plt.plot(range(T), forecasted_values)\n",
        "\n",
        "var_95 = np.percentile(simulated_rtn, 5)\n",
        "var_95"
      ],
      "metadata": {
        "id": "RywEXfu04SBw",
        "colab": {
          "base_uri": "https://localhost:8080/",
          "height": 282
        },
        "outputId": "f419eb66-bad3-480a-ded4-1ed4f910b6b8"
      },
      "execution_count": 42,
      "outputs": [
        {
          "output_type": "execute_result",
          "data": {
            "text/plain": [
              "-0.03655961671395404"
            ]
          },
          "metadata": {},
          "execution_count": 42
        },
        {
          "output_type": "display_data",
          "data": {
            "text/plain": [
              "<Figure size 432x288 with 1 Axes>"
            ],
            "image/png": "[encoded data removed]"
          },
          "metadata": {
            "needs_background": "light"
          }
        }
      ]
    }
  ]
}